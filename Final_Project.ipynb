{
 "cells": [
  {
   "cell_type": "markdown",
   "metadata": {
    "button": false,
    "new_sheet": false,
    "run_control": {
     "read_only": false
    }
   },
   "source": [
    "<a href=\"https://www.bigdatauniversity.com\"><img src=\"https://ibm.box.com/shared/static/cw2c7r3o20w9zn8gkecaeyjhgw3xdgbj.png\" width=\"400\" align=\"center\"></a>\n",
    "\n",
    "<h1 align=\"center\"><font size=\"5\">Classification with Python</font></h1>"
   ]
  },
  {
   "cell_type": "markdown",
   "metadata": {
    "button": false,
    "new_sheet": false,
    "run_control": {
     "read_only": false
    }
   },
   "source": [
    "In this notebook we try to practice all the classification algorithms that we learned in this course.\n",
    "\n",
    "We load a dataset using Pandas library, and apply the following algorithms, and find the best one for this specific dataset by accuracy evaluation methods.\n",
    "\n",
    "Lets first load required libraries:"
   ]
  },
  {
   "cell_type": "code",
   "execution_count": 1,
   "metadata": {
    "button": false,
    "new_sheet": false,
    "run_control": {
     "read_only": false
    }
   },
   "outputs": [],
   "source": [
    "import itertools\n",
    "import numpy as np\n",
    "import matplotlib.pyplot as plt\n",
    "from matplotlib.ticker import NullFormatter\n",
    "import pandas as pd\n",
    "import numpy as np\n",
    "import matplotlib.ticker as ticker\n",
    "from sklearn import preprocessing\n",
    "%matplotlib inline"
   ]
  },
  {
   "cell_type": "markdown",
   "metadata": {
    "button": false,
    "new_sheet": false,
    "run_control": {
     "read_only": false
    }
   },
   "source": [
    "### About dataset"
   ]
  },
  {
   "cell_type": "markdown",
   "metadata": {
    "button": false,
    "new_sheet": false,
    "run_control": {
     "read_only": false
    }
   },
   "source": [
    "This dataset is about past loans. The __Loan_train.csv__ data set includes details of 346 customers whose loan are already paid off or defaulted. It includes following fields:\n",
    "\n",
    "| Field          | Description                                                                           |\n",
    "|----------------|---------------------------------------------------------------------------------------|\n",
    "| Loan_status    | Whether a loan is paid off on in collection                                           |\n",
    "| Principal      | Basic principal loan amount at the                                                    |\n",
    "| Terms          | Origination terms which can be weekly (7 days), biweekly, and monthly payoff schedule |\n",
    "| Effective_date | When the loan got originated and took effects                                         |\n",
    "| Due_date       | Since it’s one-time payoff schedule, each loan has one single due date                |\n",
    "| Age            | Age of applicant                                                                      |\n",
    "| Education      | Education of applicant                                                                |\n",
    "| Gender         | The gender of applicant                                                               |"
   ]
  },
  {
   "cell_type": "markdown",
   "metadata": {
    "button": false,
    "new_sheet": false,
    "run_control": {
     "read_only": false
    }
   },
   "source": [
    "Lets download the dataset"
   ]
  },
  {
   "cell_type": "code",
   "execution_count": 2,
   "metadata": {
    "button": false,
    "new_sheet": false,
    "run_control": {
     "read_only": false
    }
   },
   "outputs": [
    {
     "name": "stderr",
     "output_type": "stream",
     "text": [
      "--2020-06-26 13:02:27--  https://s3-api.us-geo.objectstorage.softlayer.net/cf-courses-data/CognitiveClass/ML0101ENv3/labs/loan_train.csv\n",
      "Resolving s3-api.us-geo.objectstorage.softlayer.net (s3-api.us-geo.objectstorage.softlayer.net)... 67.228.254.196\n",
      "Connecting to s3-api.us-geo.objectstorage.softlayer.net (s3-api.us-geo.objectstorage.softlayer.net)|67.228.254.196|:443... connected.\n",
      "HTTP request sent, awaiting response... 200 OK\n",
      "Length: 23101 (23K) [text/csv]\n",
      "Saving to: 'loan_train.csv'\n",
      "\n",
      "     0K .......... .......... ..                              100% 16.7K=1.3s\n",
      "\n",
      "2020-06-26 13:02:31 (16.7 KB/s) - 'loan_train.csv' saved [23101/23101]\n",
      "\n"
     ]
    }
   ],
   "source": [
    "!wget -O loan_train.csv https://s3-api.us-geo.objectstorage.softlayer.net/cf-courses-data/CognitiveClass/ML0101ENv3/labs/loan_train.csv"
   ]
  },
  {
   "cell_type": "markdown",
   "metadata": {
    "button": false,
    "new_sheet": false,
    "run_control": {
     "read_only": false
    }
   },
   "source": [
    "### Load Data From CSV File  "
   ]
  },
  {
   "cell_type": "code",
   "execution_count": 3,
   "metadata": {
    "button": false,
    "new_sheet": false,
    "run_control": {
     "read_only": false
    }
   },
   "outputs": [
    {
     "data": {
      "text/html": [
       "<div>\n",
       "<style scoped>\n",
       "    .dataframe tbody tr th:only-of-type {\n",
       "        vertical-align: middle;\n",
       "    }\n",
       "\n",
       "    .dataframe tbody tr th {\n",
       "        vertical-align: top;\n",
       "    }\n",
       "\n",
       "    .dataframe thead th {\n",
       "        text-align: right;\n",
       "    }\n",
       "</style>\n",
       "<table border=\"1\" class=\"dataframe\">\n",
       "  <thead>\n",
       "    <tr style=\"text-align: right;\">\n",
       "      <th></th>\n",
       "      <th>Unnamed: 0</th>\n",
       "      <th>Unnamed: 0.1</th>\n",
       "      <th>loan_status</th>\n",
       "      <th>Principal</th>\n",
       "      <th>terms</th>\n",
       "      <th>effective_date</th>\n",
       "      <th>due_date</th>\n",
       "      <th>age</th>\n",
       "      <th>education</th>\n",
       "      <th>Gender</th>\n",
       "    </tr>\n",
       "  </thead>\n",
       "  <tbody>\n",
       "    <tr>\n",
       "      <th>0</th>\n",
       "      <td>0</td>\n",
       "      <td>0</td>\n",
       "      <td>PAIDOFF</td>\n",
       "      <td>1000</td>\n",
       "      <td>30</td>\n",
       "      <td>9/8/2016</td>\n",
       "      <td>10/7/2016</td>\n",
       "      <td>45</td>\n",
       "      <td>High School or Below</td>\n",
       "      <td>male</td>\n",
       "    </tr>\n",
       "    <tr>\n",
       "      <th>1</th>\n",
       "      <td>2</td>\n",
       "      <td>2</td>\n",
       "      <td>PAIDOFF</td>\n",
       "      <td>1000</td>\n",
       "      <td>30</td>\n",
       "      <td>9/8/2016</td>\n",
       "      <td>10/7/2016</td>\n",
       "      <td>33</td>\n",
       "      <td>Bechalor</td>\n",
       "      <td>female</td>\n",
       "    </tr>\n",
       "    <tr>\n",
       "      <th>2</th>\n",
       "      <td>3</td>\n",
       "      <td>3</td>\n",
       "      <td>PAIDOFF</td>\n",
       "      <td>1000</td>\n",
       "      <td>15</td>\n",
       "      <td>9/8/2016</td>\n",
       "      <td>9/22/2016</td>\n",
       "      <td>27</td>\n",
       "      <td>college</td>\n",
       "      <td>male</td>\n",
       "    </tr>\n",
       "    <tr>\n",
       "      <th>3</th>\n",
       "      <td>4</td>\n",
       "      <td>4</td>\n",
       "      <td>PAIDOFF</td>\n",
       "      <td>1000</td>\n",
       "      <td>30</td>\n",
       "      <td>9/9/2016</td>\n",
       "      <td>10/8/2016</td>\n",
       "      <td>28</td>\n",
       "      <td>college</td>\n",
       "      <td>female</td>\n",
       "    </tr>\n",
       "    <tr>\n",
       "      <th>4</th>\n",
       "      <td>6</td>\n",
       "      <td>6</td>\n",
       "      <td>PAIDOFF</td>\n",
       "      <td>1000</td>\n",
       "      <td>30</td>\n",
       "      <td>9/9/2016</td>\n",
       "      <td>10/8/2016</td>\n",
       "      <td>29</td>\n",
       "      <td>college</td>\n",
       "      <td>male</td>\n",
       "    </tr>\n",
       "  </tbody>\n",
       "</table>\n",
       "</div>"
      ],
      "text/plain": [
       "   Unnamed: 0  Unnamed: 0.1 loan_status  Principal  terms effective_date  \\\n",
       "0           0             0     PAIDOFF       1000     30       9/8/2016   \n",
       "1           2             2     PAIDOFF       1000     30       9/8/2016   \n",
       "2           3             3     PAIDOFF       1000     15       9/8/2016   \n",
       "3           4             4     PAIDOFF       1000     30       9/9/2016   \n",
       "4           6             6     PAIDOFF       1000     30       9/9/2016   \n",
       "\n",
       "    due_date  age             education  Gender  \n",
       "0  10/7/2016   45  High School or Below    male  \n",
       "1  10/7/2016   33              Bechalor  female  \n",
       "2  9/22/2016   27               college    male  \n",
       "3  10/8/2016   28               college  female  \n",
       "4  10/8/2016   29               college    male  "
      ]
     },
     "execution_count": 3,
     "metadata": {},
     "output_type": "execute_result"
    }
   ],
   "source": [
    "df = pd.read_csv('loan_train.csv')\n",
    "df.head()"
   ]
  },
  {
   "cell_type": "code",
   "execution_count": 4,
   "metadata": {},
   "outputs": [
    {
     "data": {
      "text/plain": [
       "(346, 10)"
      ]
     },
     "execution_count": 4,
     "metadata": {},
     "output_type": "execute_result"
    }
   ],
   "source": [
    "df.shape"
   ]
  },
  {
   "cell_type": "markdown",
   "metadata": {
    "button": false,
    "new_sheet": false,
    "run_control": {
     "read_only": false
    }
   },
   "source": [
    "### Convert to date time object "
   ]
  },
  {
   "cell_type": "code",
   "execution_count": 5,
   "metadata": {
    "button": false,
    "new_sheet": false,
    "run_control": {
     "read_only": false
    }
   },
   "outputs": [
    {
     "data": {
      "text/html": [
       "<div>\n",
       "<style scoped>\n",
       "    .dataframe tbody tr th:only-of-type {\n",
       "        vertical-align: middle;\n",
       "    }\n",
       "\n",
       "    .dataframe tbody tr th {\n",
       "        vertical-align: top;\n",
       "    }\n",
       "\n",
       "    .dataframe thead th {\n",
       "        text-align: right;\n",
       "    }\n",
       "</style>\n",
       "<table border=\"1\" class=\"dataframe\">\n",
       "  <thead>\n",
       "    <tr style=\"text-align: right;\">\n",
       "      <th></th>\n",
       "      <th>Unnamed: 0</th>\n",
       "      <th>Unnamed: 0.1</th>\n",
       "      <th>loan_status</th>\n",
       "      <th>Principal</th>\n",
       "      <th>terms</th>\n",
       "      <th>effective_date</th>\n",
       "      <th>due_date</th>\n",
       "      <th>age</th>\n",
       "      <th>education</th>\n",
       "      <th>Gender</th>\n",
       "    </tr>\n",
       "  </thead>\n",
       "  <tbody>\n",
       "    <tr>\n",
       "      <th>0</th>\n",
       "      <td>0</td>\n",
       "      <td>0</td>\n",
       "      <td>PAIDOFF</td>\n",
       "      <td>1000</td>\n",
       "      <td>30</td>\n",
       "      <td>2016-09-08</td>\n",
       "      <td>2016-10-07</td>\n",
       "      <td>45</td>\n",
       "      <td>High School or Below</td>\n",
       "      <td>male</td>\n",
       "    </tr>\n",
       "    <tr>\n",
       "      <th>1</th>\n",
       "      <td>2</td>\n",
       "      <td>2</td>\n",
       "      <td>PAIDOFF</td>\n",
       "      <td>1000</td>\n",
       "      <td>30</td>\n",
       "      <td>2016-09-08</td>\n",
       "      <td>2016-10-07</td>\n",
       "      <td>33</td>\n",
       "      <td>Bechalor</td>\n",
       "      <td>female</td>\n",
       "    </tr>\n",
       "    <tr>\n",
       "      <th>2</th>\n",
       "      <td>3</td>\n",
       "      <td>3</td>\n",
       "      <td>PAIDOFF</td>\n",
       "      <td>1000</td>\n",
       "      <td>15</td>\n",
       "      <td>2016-09-08</td>\n",
       "      <td>2016-09-22</td>\n",
       "      <td>27</td>\n",
       "      <td>college</td>\n",
       "      <td>male</td>\n",
       "    </tr>\n",
       "    <tr>\n",
       "      <th>3</th>\n",
       "      <td>4</td>\n",
       "      <td>4</td>\n",
       "      <td>PAIDOFF</td>\n",
       "      <td>1000</td>\n",
       "      <td>30</td>\n",
       "      <td>2016-09-09</td>\n",
       "      <td>2016-10-08</td>\n",
       "      <td>28</td>\n",
       "      <td>college</td>\n",
       "      <td>female</td>\n",
       "    </tr>\n",
       "    <tr>\n",
       "      <th>4</th>\n",
       "      <td>6</td>\n",
       "      <td>6</td>\n",
       "      <td>PAIDOFF</td>\n",
       "      <td>1000</td>\n",
       "      <td>30</td>\n",
       "      <td>2016-09-09</td>\n",
       "      <td>2016-10-08</td>\n",
       "      <td>29</td>\n",
       "      <td>college</td>\n",
       "      <td>male</td>\n",
       "    </tr>\n",
       "  </tbody>\n",
       "</table>\n",
       "</div>"
      ],
      "text/plain": [
       "   Unnamed: 0  Unnamed: 0.1 loan_status  Principal  terms effective_date  \\\n",
       "0           0             0     PAIDOFF       1000     30     2016-09-08   \n",
       "1           2             2     PAIDOFF       1000     30     2016-09-08   \n",
       "2           3             3     PAIDOFF       1000     15     2016-09-08   \n",
       "3           4             4     PAIDOFF       1000     30     2016-09-09   \n",
       "4           6             6     PAIDOFF       1000     30     2016-09-09   \n",
       "\n",
       "    due_date  age             education  Gender  \n",
       "0 2016-10-07   45  High School or Below    male  \n",
       "1 2016-10-07   33              Bechalor  female  \n",
       "2 2016-09-22   27               college    male  \n",
       "3 2016-10-08   28               college  female  \n",
       "4 2016-10-08   29               college    male  "
      ]
     },
     "execution_count": 5,
     "metadata": {},
     "output_type": "execute_result"
    }
   ],
   "source": [
    "df['due_date'] = pd.to_datetime(df['due_date'])\n",
    "df['effective_date'] = pd.to_datetime(df['effective_date'])\n",
    "df.head()"
   ]
  },
  {
   "cell_type": "markdown",
   "metadata": {
    "button": false,
    "new_sheet": false,
    "run_control": {
     "read_only": false
    }
   },
   "source": [
    "# Data visualization and pre-processing\n",
    "\n"
   ]
  },
  {
   "cell_type": "markdown",
   "metadata": {
    "button": false,
    "new_sheet": false,
    "run_control": {
     "read_only": false
    }
   },
   "source": [
    "Let’s see how many of each class is in our data set "
   ]
  },
  {
   "cell_type": "code",
   "execution_count": 6,
   "metadata": {
    "button": false,
    "new_sheet": false,
    "run_control": {
     "read_only": false
    }
   },
   "outputs": [
    {
     "data": {
      "text/plain": [
       "PAIDOFF       260\n",
       "COLLECTION     86\n",
       "Name: loan_status, dtype: int64"
      ]
     },
     "execution_count": 6,
     "metadata": {},
     "output_type": "execute_result"
    }
   ],
   "source": [
    "df['loan_status'].value_counts()"
   ]
  },
  {
   "cell_type": "markdown",
   "metadata": {
    "button": false,
    "new_sheet": false,
    "run_control": {
     "read_only": false
    }
   },
   "source": [
    "260 people have paid off the loan on time while 86 have gone into collection \n"
   ]
  },
  {
   "cell_type": "markdown",
   "metadata": {},
   "source": [
    "Lets plot some columns to underestand data better:"
   ]
  },
  {
   "cell_type": "code",
   "execution_count": 8,
   "metadata": {},
   "outputs": [
    {
     "name": "stdout",
     "output_type": "stream",
     "text": [
      "Collecting package metadata (current_repodata.json): ...working... done\n",
      "Solving environment: ...working... done\n",
      "\n",
      "# All requested packages already installed.\n",
      "\n"
     ]
    }
   ],
   "source": [
    "# notice: installing seaborn might takes a few minutes\n",
    "!conda install -c anaconda seaborn -y"
   ]
  },
  {
   "cell_type": "code",
   "execution_count": 7,
   "metadata": {},
   "outputs": [
    {
     "data": {
      "image/png": "[encoded data removed]",
      "text/plain": [
       "<Figure size 432x216 with 2 Axes>"
      ]
     },
     "metadata": {
      "needs_background": "light"
     },
     "output_type": "display_data"
    }
   ],
   "source": [
    "import seaborn as sns\n",
    "\n",
    "bins = np.linspace(df.Principal.min(), df.Principal.max(), 10)\n",
    "g = sns.FacetGrid(df, col=\"Gender\", hue=\"loan_status\", palette=\"Set1\", col_wrap=2)\n",
    "g.map(plt.hist, 'Principal', bins=bins, ec=\"k\")\n",
    "\n",
    "g.axes[-1].legend()\n",
    "plt.show()"
   ]
  },
  {
   "cell_type": "code",
   "execution_count": 8,
   "metadata": {
    "button": false,
    "new_sheet": false,
    "run_control": {
     "read_only": false
    }
   },
   "outputs": [
    {
     "data": {
      "image/png": "[encoded data removed]",
      "text/plain": [
       "<Figure size 432x216 with 2 Axes>"
      ]
     },
     "metadata": {
      "needs_background": "light"
     },
     "output_type": "display_data"
    }
   ],
   "source": [
    "bins = np.linspace(df.age.min(), df.age.max(), 10)\n",
    "g = sns.FacetGrid(df, col=\"Gender\", hue=\"loan_status\", palette=\"Set1\", col_wrap=2)\n",
    "g.map(plt.hist, 'age', bins=bins, ec=\"k\")\n",
    "\n",
    "g.axes[-1].legend()\n",
    "plt.show()"
   ]
  },
  {
   "cell_type": "markdown",
   "metadata": {
    "button": false,
    "new_sheet": false,
    "run_control": {
     "read_only": false
    }
   },
   "source": [
    "# Pre-processing:  Feature selection/extraction"
   ]
  },
  {
   "cell_type": "markdown",
   "metadata": {
    "button": false,
    "new_sheet": false,
    "run_control": {
     "read_only": false
    }
   },
   "source": [
    "### Lets look at the day of the week people get the loan "
   ]
  },
  {
   "cell_type": "code",
   "execution_count": 9,
   "metadata": {
    "button": false,
    "new_sheet": false,
    "run_control": {
     "read_only": false
    }
   },
   "outputs": [
    {
     "data": {
      "image/png": "[encoded data removed]",
      "text/plain": [
       "<Figure size 432x216 with 2 Axes>"
      ]
     },
     "metadata": {
      "needs_background": "light"
     },
     "output_type": "display_data"
    }
   ],
   "source": [
    "df['dayofweek'] = df['effective_date'].dt.dayofweek\n",
    "bins = np.linspace(df.dayofweek.min(), df.dayofweek.max(), 10)\n",
    "g = sns.FacetGrid(df, col=\"Gender\", hue=\"loan_status\", palette=\"Set1\", col_wrap=2)\n",
    "g.map(plt.hist, 'dayofweek', bins=bins, ec=\"k\")\n",
    "g.axes[-1].legend()\n",
    "plt.show()\n"
   ]
  },
  {
   "cell_type": "markdown",
   "metadata": {
    "button": false,
    "new_sheet": false,
    "run_control": {
     "read_only": false
    }
   },
   "source": [
    "We see that people who get the loan at the end of the week dont pay it off, so lets use Feature binarization to set a threshold values less then day 4 "
   ]
  },
  {
   "cell_type": "code",
   "execution_count": 10,
   "metadata": {
    "button": false,
    "new_sheet": false,
    "run_control": {
     "read_only": false
    }
   },
   "outputs": [
    {
     "data": {
      "text/html": [
       "<div>\n",
       "<style scoped>\n",
       "    .dataframe tbody tr th:only-of-type {\n",
       "        vertical-align: middle;\n",
       "    }\n",
       "\n",
       "    .dataframe tbody tr th {\n",
       "        vertical-align: top;\n",
       "    }\n",
       "\n",
       "    .dataframe thead th {\n",
       "        text-align: right;\n",
       "    }\n",
       "</style>\n",
       "<table border=\"1\" class=\"dataframe\">\n",
       "  <thead>\n",
       "    <tr style=\"text-align: right;\">\n",
       "      <th></th>\n",
       "      <th>Unnamed: 0</th>\n",
       "      <th>Unnamed: 0.1</th>\n",
       "      <th>loan_status</th>\n",
       "      <th>Principal</th>\n",
       "      <th>terms</th>\n",
       "      <th>effective_date</th>\n",
       "      <th>due_date</th>\n",
       "      <th>age</th>\n",
       "      <th>education</th>\n",
       "      <th>Gender</th>\n",
       "      <th>dayofweek</th>\n",
       "      <th>weekend</th>\n",
       "    </tr>\n",
       "  </thead>\n",
       "  <tbody>\n",
       "    <tr>\n",
       "      <th>0</th>\n",
       "      <td>0</td>\n",
       "      <td>0</td>\n",
       "      <td>PAIDOFF</td>\n",
       "      <td>1000</td>\n",
       "      <td>30</td>\n",
       "      <td>2016-09-08</td>\n",
       "      <td>2016-10-07</td>\n",
       "      <td>45</td>\n",
       "      <td>High School or Below</td>\n",
       "      <td>male</td>\n",
       "      <td>3</td>\n",
       "      <td>0</td>\n",
       "    </tr>\n",
       "    <tr>\n",
       "      <th>1</th>\n",
       "      <td>2</td>\n",
       "      <td>2</td>\n",
       "      <td>PAIDOFF</td>\n",
       "      <td>1000</td>\n",
       "      <td>30</td>\n",
       "      <td>2016-09-08</td>\n",
       "      <td>2016-10-07</td>\n",
       "      <td>33</td>\n",
       "      <td>Bechalor</td>\n",
       "      <td>female</td>\n",
       "      <td>3</td>\n",
       "      <td>0</td>\n",
       "    </tr>\n",
       "    <tr>\n",
       "      <th>2</th>\n",
       "      <td>3</td>\n",
       "      <td>3</td>\n",
       "      <td>PAIDOFF</td>\n",
       "      <td>1000</td>\n",
       "      <td>15</td>\n",
       "      <td>2016-09-08</td>\n",
       "      <td>2016-09-22</td>\n",
       "      <td>27</td>\n",
       "      <td>college</td>\n",
       "      <td>male</td>\n",
       "      <td>3</td>\n",
       "      <td>0</td>\n",
       "    </tr>\n",
       "    <tr>\n",
       "      <th>3</th>\n",
       "      <td>4</td>\n",
       "      <td>4</td>\n",
       "      <td>PAIDOFF</td>\n",
       "      <td>1000</td>\n",
       "      <td>30</td>\n",
       "      <td>2016-09-09</td>\n",
       "      <td>2016-10-08</td>\n",
       "      <td>28</td>\n",
       "      <td>college</td>\n",
       "      <td>female</td>\n",
       "      <td>4</td>\n",
       "      <td>1</td>\n",
       "    </tr>\n",
       "    <tr>\n",
       "      <th>4</th>\n",
       "      <td>6</td>\n",
       "      <td>6</td>\n",
       "      <td>PAIDOFF</td>\n",
       "      <td>1000</td>\n",
       "      <td>30</td>\n",
       "      <td>2016-09-09</td>\n",
       "      <td>2016-10-08</td>\n",
       "      <td>29</td>\n",
       "      <td>college</td>\n",
       "      <td>male</td>\n",
       "      <td>4</td>\n",
       "      <td>1</td>\n",
       "    </tr>\n",
       "  </tbody>\n",
       "</table>\n",
       "</div>"
      ],
      "text/plain": [
       "   Unnamed: 0  Unnamed: 0.1 loan_status  Principal  terms effective_date  \\\n",
       "0           0             0     PAIDOFF       1000     30     2016-09-08   \n",
       "1           2             2     PAIDOFF       1000     30     2016-09-08   \n",
       "2           3             3     PAIDOFF       1000     15     2016-09-08   \n",
       "3           4             4     PAIDOFF       1000     30     2016-09-09   \n",
       "4           6             6     PAIDOFF       1000     30     2016-09-09   \n",
       "\n",
       "    due_date  age             education  Gender  dayofweek  weekend  \n",
       "0 2016-10-07   45  High School or Below    male          3        0  \n",
       "1 2016-10-07   33              Bechalor  female          3        0  \n",
       "2 2016-09-22   27               college    male          3        0  \n",
       "3 2016-10-08   28               college  female          4        1  \n",
       "4 2016-10-08   29               college    male          4        1  "
      ]
     },
     "execution_count": 10,
     "metadata": {},
     "output_type": "execute_result"
    }
   ],
   "source": [
    "df['weekend'] = df['dayofweek'].apply(lambda x: 1 if (x>3)  else 0)\n",
    "df.head()"
   ]
  },
  {
   "cell_type": "markdown",
   "metadata": {
    "button": false,
    "new_sheet": false,
    "run_control": {
     "read_only": false
    }
   },
   "source": [
    "## Convert Categorical features to numerical values"
   ]
  },
  {
   "cell_type": "markdown",
   "metadata": {
    "button": false,
    "new_sheet": false,
    "run_control": {
     "read_only": false
    }
   },
   "source": [
    "Lets look at gender:"
   ]
  },
  {
   "cell_type": "code",
   "execution_count": 11,
   "metadata": {
    "button": false,
    "new_sheet": false,
    "run_control": {
     "read_only": false
    }
   },
   "outputs": [
    {
     "data": {
      "text/plain": [
       "Gender  loan_status\n",
       "female  PAIDOFF        0.865385\n",
       "        COLLECTION     0.134615\n",
       "male    PAIDOFF        0.731293\n",
       "        COLLECTION     0.268707\n",
       "Name: loan_status, dtype: float64"
      ]
     },
     "execution_count": 11,
     "metadata": {},
     "output_type": "execute_result"
    }
   ],
   "source": [
    "df.groupby(['Gender'])['loan_status'].value_counts(normalize=True)"
   ]
  },
  {
   "cell_type": "markdown",
   "metadata": {
    "button": false,
    "new_sheet": false,
    "run_control": {
     "read_only": false
    }
   },
   "source": [
    "86 % of female pay there loans while only 73 % of males pay there loan\n"
   ]
  },
  {
   "cell_type": "markdown",
   "metadata": {
    "button": false,
    "new_sheet": false,
    "run_control": {
     "read_only": false
    }
   },
   "source": [
    "Lets convert male to 0 and female to 1:\n"
   ]
  },
  {
   "cell_type": "code",
   "execution_count": 12,
   "metadata": {
    "button": false,
    "new_sheet": false,
    "run_control": {
     "read_only": false
    }
   },
   "outputs": [
    {
     "data": {
      "text/html": [
       "<div>\n",
       "<style scoped>\n",
       "    .dataframe tbody tr th:only-of-type {\n",
       "        vertical-align: middle;\n",
       "    }\n",
       "\n",
       "    .dataframe tbody tr th {\n",
       "        vertical-align: top;\n",
       "    }\n",
       "\n",
       "    .dataframe thead th {\n",
       "        text-align: right;\n",
       "    }\n",
       "</style>\n",
       "<table border=\"1\" class=\"dataframe\">\n",
       "  <thead>\n",
       "    <tr style=\"text-align: right;\">\n",
       "      <th></th>\n",
       "      <th>Unnamed: 0</th>\n",
       "      <th>Unnamed: 0.1</th>\n",
       "      <th>loan_status</th>\n",
       "      <th>Principal</th>\n",
       "      <th>terms</th>\n",
       "      <th>effective_date</th>\n",
       "      <th>due_date</th>\n",
       "      <th>age</th>\n",
       "      <th>education</th>\n",
       "      <th>Gender</th>\n",
       "      <th>dayofweek</th>\n",
       "      <th>weekend</th>\n",
       "    </tr>\n",
       "  </thead>\n",
       "  <tbody>\n",
       "    <tr>\n",
       "      <th>0</th>\n",
       "      <td>0</td>\n",
       "      <td>0</td>\n",
       "      <td>PAIDOFF</td>\n",
       "      <td>1000</td>\n",
       "      <td>30</td>\n",
       "      <td>2016-09-08</td>\n",
       "      <td>2016-10-07</td>\n",
       "      <td>45</td>\n",
       "      <td>High School or Below</td>\n",
       "      <td>0</td>\n",
       "      <td>3</td>\n",
       "      <td>0</td>\n",
       "    </tr>\n",
       "    <tr>\n",
       "      <th>1</th>\n",
       "      <td>2</td>\n",
       "      <td>2</td>\n",
       "      <td>PAIDOFF</td>\n",
       "      <td>1000</td>\n",
       "      <td>30</td>\n",
       "      <td>2016-09-08</td>\n",
       "      <td>2016-10-07</td>\n",
       "      <td>33</td>\n",
       "      <td>Bechalor</td>\n",
       "      <td>1</td>\n",
       "      <td>3</td>\n",
       "      <td>0</td>\n",
       "    </tr>\n",
       "    <tr>\n",
       "      <th>2</th>\n",
       "      <td>3</td>\n",
       "      <td>3</td>\n",
       "      <td>PAIDOFF</td>\n",
       "      <td>1000</td>\n",
       "      <td>15</td>\n",
       "      <td>2016-09-08</td>\n",
       "      <td>2016-09-22</td>\n",
       "      <td>27</td>\n",
       "      <td>college</td>\n",
       "      <td>0</td>\n",
       "      <td>3</td>\n",
       "      <td>0</td>\n",
       "    </tr>\n",
       "    <tr>\n",
       "      <th>3</th>\n",
       "      <td>4</td>\n",
       "      <td>4</td>\n",
       "      <td>PAIDOFF</td>\n",
       "      <td>1000</td>\n",
       "      <td>30</td>\n",
       "      <td>2016-09-09</td>\n",
       "      <td>2016-10-08</td>\n",
       "      <td>28</td>\n",
       "      <td>college</td>\n",
       "      <td>1</td>\n",
       "      <td>4</td>\n",
       "      <td>1</td>\n",
       "    </tr>\n",
       "    <tr>\n",
       "      <th>4</th>\n",
       "      <td>6</td>\n",
       "      <td>6</td>\n",
       "      <td>PAIDOFF</td>\n",
       "      <td>1000</td>\n",
       "      <td>30</td>\n",
       "      <td>2016-09-09</td>\n",
       "      <td>2016-10-08</td>\n",
       "      <td>29</td>\n",
       "      <td>college</td>\n",
       "      <td>0</td>\n",
       "      <td>4</td>\n",
       "      <td>1</td>\n",
       "    </tr>\n",
       "  </tbody>\n",
       "</table>\n",
       "</div>"
      ],
      "text/plain": [
       "   Unnamed: 0  Unnamed: 0.1 loan_status  Principal  terms effective_date  \\\n",
       "0           0             0     PAIDOFF       1000     30     2016-09-08   \n",
       "1           2             2     PAIDOFF       1000     30     2016-09-08   \n",
       "2           3             3     PAIDOFF       1000     15     2016-09-08   \n",
       "3           4             4     PAIDOFF       1000     30     2016-09-09   \n",
       "4           6             6     PAIDOFF       1000     30     2016-09-09   \n",
       "\n",
       "    due_date  age             education  Gender  dayofweek  weekend  \n",
       "0 2016-10-07   45  High School or Below       0          3        0  \n",
       "1 2016-10-07   33              Bechalor       1          3        0  \n",
       "2 2016-09-22   27               college       0          3        0  \n",
       "3 2016-10-08   28               college       1          4        1  \n",
       "4 2016-10-08   29               college       0          4        1  "
      ]
     },
     "execution_count": 12,
     "metadata": {},
     "output_type": "execute_result"
    }
   ],
   "source": [
    "df['Gender'].replace(to_replace=['male','female'], value=[0,1], inplace=True)\n",
    "df.head()"
   ]
  },
  {
   "cell_type": "markdown",
   "metadata": {
    "button": false,
    "new_sheet": false,
    "run_control": {
     "read_only": false
    }
   },
   "source": [
    "## One Hot Encoding  \n",
    "#### How about education?"
   ]
  },
  {
   "cell_type": "code",
   "execution_count": 13,
   "metadata": {
    "button": false,
    "new_sheet": false,
    "run_control": {
     "read_only": false
    }
   },
   "outputs": [
    {
     "data": {
      "text/plain": [
       "education             loan_status\n",
       "Bechalor              PAIDOFF        0.750000\n",
       "                      COLLECTION     0.250000\n",
       "High School or Below  PAIDOFF        0.741722\n",
       "                      COLLECTION     0.258278\n",
       "Master or Above       COLLECTION     0.500000\n",
       "                      PAIDOFF        0.500000\n",
       "college               PAIDOFF        0.765101\n",
       "                      COLLECTION     0.234899\n",
       "Name: loan_status, dtype: float64"
      ]
     },
     "execution_count": 13,
     "metadata": {},
     "output_type": "execute_result"
    }
   ],
   "source": [
    "df.groupby(['education'])['loan_status'].value_counts(normalize=True)"
   ]
  },
  {
   "cell_type": "markdown",
   "metadata": {
    "button": false,
    "new_sheet": false,
    "run_control": {
     "read_only": false
    }
   },
   "source": [
    "#### Feature befor One Hot Encoding"
   ]
  },
  {
   "cell_type": "code",
   "execution_count": 14,
   "metadata": {
    "button": false,
    "new_sheet": false,
    "run_control": {
     "read_only": false
    }
   },
   "outputs": [
    {
     "data": {
      "text/html": [
       "<div>\n",
       "<style scoped>\n",
       "    .dataframe tbody tr th:only-of-type {\n",
       "        vertical-align: middle;\n",
       "    }\n",
       "\n",
       "    .dataframe tbody tr th {\n",
       "        vertical-align: top;\n",
       "    }\n",
       "\n",
       "    .dataframe thead th {\n",
       "        text-align: right;\n",
       "    }\n",
       "</style>\n",
       "<table border=\"1\" class=\"dataframe\">\n",
       "  <thead>\n",
       "    <tr style=\"text-align: right;\">\n",
       "      <th></th>\n",
       "      <th>Principal</th>\n",
       "      <th>terms</th>\n",
       "      <th>age</th>\n",
       "      <th>Gender</th>\n",
       "      <th>education</th>\n",
       "    </tr>\n",
       "  </thead>\n",
       "  <tbody>\n",
       "    <tr>\n",
       "      <th>0</th>\n",
       "      <td>1000</td>\n",
       "      <td>30</td>\n",
       "      <td>45</td>\n",
       "      <td>0</td>\n",
       "      <td>High School or Below</td>\n",
       "    </tr>\n",
       "    <tr>\n",
       "      <th>1</th>\n",
       "      <td>1000</td>\n",
       "      <td>30</td>\n",
       "      <td>33</td>\n",
       "      <td>1</td>\n",
       "      <td>Bechalor</td>\n",
       "    </tr>\n",
       "    <tr>\n",
       "      <th>2</th>\n",
       "      <td>1000</td>\n",
       "      <td>15</td>\n",
       "      <td>27</td>\n",
       "      <td>0</td>\n",
       "      <td>college</td>\n",
       "    </tr>\n",
       "    <tr>\n",
       "      <th>3</th>\n",
       "      <td>1000</td>\n",
       "      <td>30</td>\n",
       "      <td>28</td>\n",
       "      <td>1</td>\n",
       "      <td>college</td>\n",
       "    </tr>\n",
       "    <tr>\n",
       "      <th>4</th>\n",
       "      <td>1000</td>\n",
       "      <td>30</td>\n",
       "      <td>29</td>\n",
       "      <td>0</td>\n",
       "      <td>college</td>\n",
       "    </tr>\n",
       "  </tbody>\n",
       "</table>\n",
       "</div>"
      ],
      "text/plain": [
       "   Principal  terms  age  Gender             education\n",
       "0       1000     30   45       0  High School or Below\n",
       "1       1000     30   33       1              Bechalor\n",
       "2       1000     15   27       0               college\n",
       "3       1000     30   28       1               college\n",
       "4       1000     30   29       0               college"
      ]
     },
     "execution_count": 14,
     "metadata": {},
     "output_type": "execute_result"
    }
   ],
   "source": [
    "df[['Principal','terms','age','Gender','education']].head()"
   ]
  },
  {
   "cell_type": "markdown",
   "metadata": {
    "button": false,
    "new_sheet": false,
    "run_control": {
     "read_only": false
    }
   },
   "source": [
    "#### Use one hot encoding technique to conver categorical varables to binary variables and append them to the feature Data Frame "
   ]
  },
  {
   "cell_type": "code",
   "execution_count": 15,
   "metadata": {
    "button": false,
    "new_sheet": false,
    "run_control": {
     "read_only": false
    }
   },
   "outputs": [
    {
     "data": {
      "text/html": [
       "<div>\n",
       "<style scoped>\n",
       "    .dataframe tbody tr th:only-of-type {\n",
       "        vertical-align: middle;\n",
       "    }\n",
       "\n",
       "    .dataframe tbody tr th {\n",
       "        vertical-align: top;\n",
       "    }\n",
       "\n",
       "    .dataframe thead th {\n",
       "        text-align: right;\n",
       "    }\n",
       "</style>\n",
       "<table border=\"1\" class=\"dataframe\">\n",
       "  <thead>\n",
       "    <tr style=\"text-align: right;\">\n",
       "      <th></th>\n",
       "      <th>Principal</th>\n",
       "      <th>terms</th>\n",
       "      <th>age</th>\n",
       "      <th>Gender</th>\n",
       "      <th>weekend</th>\n",
       "      <th>Bechalor</th>\n",
       "      <th>High School or Below</th>\n",
       "      <th>college</th>\n",
       "    </tr>\n",
       "  </thead>\n",
       "  <tbody>\n",
       "    <tr>\n",
       "      <th>0</th>\n",
       "      <td>1000</td>\n",
       "      <td>30</td>\n",
       "      <td>45</td>\n",
       "      <td>0</td>\n",
       "      <td>0</td>\n",
       "      <td>0</td>\n",
       "      <td>1</td>\n",
       "      <td>0</td>\n",
       "    </tr>\n",
       "    <tr>\n",
       "      <th>1</th>\n",
       "      <td>1000</td>\n",
       "      <td>30</td>\n",
       "      <td>33</td>\n",
       "      <td>1</td>\n",
       "      <td>0</td>\n",
       "      <td>1</td>\n",
       "      <td>0</td>\n",
       "      <td>0</td>\n",
       "    </tr>\n",
       "    <tr>\n",
       "      <th>2</th>\n",
       "      <td>1000</td>\n",
       "      <td>15</td>\n",
       "      <td>27</td>\n",
       "      <td>0</td>\n",
       "      <td>0</td>\n",
       "      <td>0</td>\n",
       "      <td>0</td>\n",
       "      <td>1</td>\n",
       "    </tr>\n",
       "    <tr>\n",
       "      <th>3</th>\n",
       "      <td>1000</td>\n",
       "      <td>30</td>\n",
       "      <td>28</td>\n",
       "      <td>1</td>\n",
       "      <td>1</td>\n",
       "      <td>0</td>\n",
       "      <td>0</td>\n",
       "      <td>1</td>\n",
       "    </tr>\n",
       "    <tr>\n",
       "      <th>4</th>\n",
       "      <td>1000</td>\n",
       "      <td>30</td>\n",
       "      <td>29</td>\n",
       "      <td>0</td>\n",
       "      <td>1</td>\n",
       "      <td>0</td>\n",
       "      <td>0</td>\n",
       "      <td>1</td>\n",
       "    </tr>\n",
       "  </tbody>\n",
       "</table>\n",
       "</div>"
      ],
      "text/plain": [
       "   Principal  terms  age  Gender  weekend  Bechalor  High School or Below  \\\n",
       "0       1000     30   45       0        0         0                     1   \n",
       "1       1000     30   33       1        0         1                     0   \n",
       "2       1000     15   27       0        0         0                     0   \n",
       "3       1000     30   28       1        1         0                     0   \n",
       "4       1000     30   29       0        1         0                     0   \n",
       "\n",
       "   college  \n",
       "0        0  \n",
       "1        0  \n",
       "2        1  \n",
       "3        1  \n",
       "4        1  "
      ]
     },
     "execution_count": 15,
     "metadata": {},
     "output_type": "execute_result"
    }
   ],
   "source": [
    "Feature = df[['Principal','terms','age','Gender','weekend']]\n",
    "Feature = pd.concat([Feature,pd.get_dummies(df['education'])], axis=1)\n",
    "Feature.drop(['Master or Above'], axis = 1,inplace=True)\n",
    "Feature.head()\n"
   ]
  },
  {
   "cell_type": "markdown",
   "metadata": {
    "button": false,
    "new_sheet": false,
    "run_control": {
     "read_only": false
    }
   },
   "source": [
    "### Feature selection"
   ]
  },
  {
   "cell_type": "markdown",
   "metadata": {
    "button": false,
    "new_sheet": false,
    "run_control": {
     "read_only": false
    }
   },
   "source": [
    "Lets defind feature sets, X:"
   ]
  },
  {
   "cell_type": "code",
   "execution_count": 16,
   "metadata": {
    "button": false,
    "new_sheet": false,
    "run_control": {
     "read_only": false
    }
   },
   "outputs": [
    {
     "data": {
      "text/html": [
       "<div>\n",
       "<style scoped>\n",
       "    .dataframe tbody tr th:only-of-type {\n",
       "        vertical-align: middle;\n",
       "    }\n",
       "\n",
       "    .dataframe tbody tr th {\n",
       "        vertical-align: top;\n",
       "    }\n",
       "\n",
       "    .dataframe thead th {\n",
       "        text-align: right;\n",
       "    }\n",
       "</style>\n",
       "<table border=\"1\" class=\"dataframe\">\n",
       "  <thead>\n",
       "    <tr style=\"text-align: right;\">\n",
       "      <th></th>\n",
       "      <th>Principal</th>\n",
       "      <th>terms</th>\n",
       "      <th>age</th>\n",
       "      <th>Gender</th>\n",
       "      <th>weekend</th>\n",
       "      <th>Bechalor</th>\n",
       "      <th>High School or Below</th>\n",
       "      <th>college</th>\n",
       "    </tr>\n",
       "  </thead>\n",
       "  <tbody>\n",
       "    <tr>\n",
       "      <th>0</th>\n",
       "      <td>1000</td>\n",
       "      <td>30</td>\n",
       "      <td>45</td>\n",
       "      <td>0</td>\n",
       "      <td>0</td>\n",
       "      <td>0</td>\n",
       "      <td>1</td>\n",
       "      <td>0</td>\n",
       "    </tr>\n",
       "    <tr>\n",
       "      <th>1</th>\n",
       "      <td>1000</td>\n",
       "      <td>30</td>\n",
       "      <td>33</td>\n",
       "      <td>1</td>\n",
       "      <td>0</td>\n",
       "      <td>1</td>\n",
       "      <td>0</td>\n",
       "      <td>0</td>\n",
       "    </tr>\n",
       "    <tr>\n",
       "      <th>2</th>\n",
       "      <td>1000</td>\n",
       "      <td>15</td>\n",
       "      <td>27</td>\n",
       "      <td>0</td>\n",
       "      <td>0</td>\n",
       "      <td>0</td>\n",
       "      <td>0</td>\n",
       "      <td>1</td>\n",
       "    </tr>\n",
       "    <tr>\n",
       "      <th>3</th>\n",
       "      <td>1000</td>\n",
       "      <td>30</td>\n",
       "      <td>28</td>\n",
       "      <td>1</td>\n",
       "      <td>1</td>\n",
       "      <td>0</td>\n",
       "      <td>0</td>\n",
       "      <td>1</td>\n",
       "    </tr>\n",
       "    <tr>\n",
       "      <th>4</th>\n",
       "      <td>1000</td>\n",
       "      <td>30</td>\n",
       "      <td>29</td>\n",
       "      <td>0</td>\n",
       "      <td>1</td>\n",
       "      <td>0</td>\n",
       "      <td>0</td>\n",
       "      <td>1</td>\n",
       "    </tr>\n",
       "  </tbody>\n",
       "</table>\n",
       "</div>"
      ],
      "text/plain": [
       "   Principal  terms  age  Gender  weekend  Bechalor  High School or Below  \\\n",
       "0       1000     30   45       0        0         0                     1   \n",
       "1       1000     30   33       1        0         1                     0   \n",
       "2       1000     15   27       0        0         0                     0   \n",
       "3       1000     30   28       1        1         0                     0   \n",
       "4       1000     30   29       0        1         0                     0   \n",
       "\n",
       "   college  \n",
       "0        0  \n",
       "1        0  \n",
       "2        1  \n",
       "3        1  \n",
       "4        1  "
      ]
     },
     "execution_count": 16,
     "metadata": {},
     "output_type": "execute_result"
    }
   ],
   "source": [
    "X = Feature\n",
    "X[0:5]"
   ]
  },
  {
   "cell_type": "markdown",
   "metadata": {
    "button": false,
    "new_sheet": false,
    "run_control": {
     "read_only": false
    }
   },
   "source": [
    "What are our lables?"
   ]
  },
  {
   "cell_type": "code",
   "execution_count": 17,
   "metadata": {
    "button": false,
    "new_sheet": false,
    "run_control": {
     "read_only": false
    }
   },
   "outputs": [
    {
     "data": {
      "text/plain": [
       "array(['PAIDOFF', 'PAIDOFF', 'PAIDOFF', 'PAIDOFF', 'PAIDOFF'],\n",
       "      dtype=object)"
      ]
     },
     "execution_count": 17,
     "metadata": {},
     "output_type": "execute_result"
    }
   ],
   "source": [
    "y = df['loan_status'].values\n",
    "y[0:5]"
   ]
  },
  {
   "cell_type": "code",
   "execution_count": 18,
   "metadata": {},
   "outputs": [
    {
     "data": {
      "text/plain": [
       "([array([7., 0., 0., 0., 0., 0., 0., 0., 0., 1.]),\n",
       "  array([7., 0., 0., 0., 0., 0., 0., 0., 0., 1.]),\n",
       "  array([7., 0., 0., 0., 0., 0., 0., 0., 0., 1.]),\n",
       "  array([7., 0., 0., 0., 0., 0., 0., 0., 0., 1.]),\n",
       "  array([7., 0., 0., 0., 0., 0., 0., 0., 0., 1.]),\n",
       "  array([7., 0., 0., 0., 0., 0., 0., 0., 0., 1.]),\n",
       "  array([7., 0., 0., 0., 0., 0., 0., 0., 0., 1.]),\n",
       "  array([7., 0., 0., 0., 0., 0., 0., 0., 1., 0.]),\n",
       "  array([7., 0., 0., 1., 0., 0., 0., 0., 0., 0.]),\n",
       "  array([7., 0., 0., 0., 0., 0., 0., 0., 0., 1.]),\n",
       "  array([7., 0., 0., 0., 0., 0., 0., 0., 0., 1.]),\n",
       "  array([7., 0., 0., 0., 0., 0., 0., 0., 0., 1.]),\n",
       "  array([7., 0., 0., 0., 0., 0., 0., 0., 0., 1.]),\n",
       "  array([7., 0., 0., 0., 0., 0., 0., 0., 1., 0.]),\n",
       "  array([7., 0., 0., 0., 0., 0., 0., 0., 0., 1.]),\n",
       "  array([7., 0., 0., 0., 0., 0., 0., 0., 0., 1.]),\n",
       "  array([7., 0., 0., 0., 0., 0., 0., 0., 0., 1.]),\n",
       "  array([7., 0., 0., 0., 0., 0., 0., 0., 1., 0.]),\n",
       "  array([7., 0., 0., 0., 0., 0., 0., 0., 0., 1.]),\n",
       "  array([7., 0., 0., 0., 0., 0., 0., 0., 0., 1.]),\n",
       "  array([7., 0., 0., 0., 0., 0., 0., 0., 0., 1.]),\n",
       "  array([7., 0., 0., 0., 0., 0., 0., 0., 0., 1.]),\n",
       "  array([7., 0., 0., 0., 0., 0., 0., 0., 1., 0.]),\n",
       "  array([7., 0., 0., 0., 0., 0., 0., 0., 0., 1.]),\n",
       "  array([7., 0., 0., 0., 0., 0., 0., 0., 0., 1.]),\n",
       "  array([7., 0., 0., 0., 0., 0., 0., 0., 0., 1.]),\n",
       "  array([7., 0., 0., 0., 0., 0., 0., 0., 1., 0.]),\n",
       "  array([7., 0., 0., 0., 0., 0., 0., 0., 0., 1.]),\n",
       "  array([7., 0., 0., 0., 0., 0., 0., 0., 0., 1.]),\n",
       "  array([7., 0., 0., 0., 0., 0., 0., 0., 0., 1.]),\n",
       "  array([7., 0., 0., 0., 0., 0., 0., 0., 1., 0.]),\n",
       "  array([7., 0., 0., 0., 0., 0., 0., 0., 0., 1.]),\n",
       "  array([7., 0., 0., 0., 0., 0., 0., 0., 0., 1.]),\n",
       "  array([7., 0., 0., 0., 0., 0., 0., 0., 0., 1.]),\n",
       "  array([7., 0., 0., 0., 0., 0., 0., 0., 1., 0.]),\n",
       "  array([7., 0., 0., 0., 0., 0., 0., 0., 0., 1.]),\n",
       "  array([7., 0., 0., 0., 0., 0., 0., 0., 0., 1.]),\n",
       "  array([7., 0., 0., 0., 0., 0., 0., 0., 0., 1.]),\n",
       "  array([7., 0., 0., 0., 0., 0., 0., 0., 1., 0.]),\n",
       "  array([7., 0., 0., 0., 0., 0., 0., 0., 0., 1.]),\n",
       "  array([7., 0., 0., 0., 0., 0., 0., 0., 0., 1.]),\n",
       "  array([7., 0., 0., 0., 0., 0., 0., 0., 1., 0.]),\n",
       "  array([7., 0., 0., 0., 0., 0., 0., 0., 0., 1.]),\n",
       "  array([7., 0., 0., 0., 0., 0., 0., 0., 1., 0.]),\n",
       "  array([7., 0., 0., 0., 0., 0., 0., 0., 0., 1.]),\n",
       "  array([7., 0., 0., 0., 0., 0., 0., 0., 0., 1.]),\n",
       "  array([7., 0., 0., 0., 0., 0., 0., 0., 0., 1.]),\n",
       "  array([7., 0., 0., 0., 0., 0., 0., 0., 0., 1.]),\n",
       "  array([7., 0., 0., 0., 0., 0., 0., 0., 0., 1.]),\n",
       "  array([7., 0., 0., 0., 0., 0., 0., 0., 1., 0.]),\n",
       "  array([7., 0., 0., 0., 0., 0., 0., 0., 1., 0.]),\n",
       "  array([7., 0., 0., 0., 0., 0., 0., 0., 0., 1.]),\n",
       "  array([7., 0., 0., 0., 0., 0., 0., 0., 0., 1.]),\n",
       "  array([7., 0., 0., 0., 0., 0., 0., 0., 0., 1.]),\n",
       "  array([7., 0., 0., 0., 0., 0., 0., 0., 0., 1.]),\n",
       "  array([7., 0., 0., 0., 0., 0., 0., 0., 0., 1.]),\n",
       "  array([7., 0., 0., 0., 0., 0., 0., 0., 0., 1.]),\n",
       "  array([7., 0., 0., 0., 0., 0., 0., 0., 0., 1.]),\n",
       "  array([7., 0., 0., 0., 0., 0., 0., 0., 1., 0.]),\n",
       "  array([7., 0., 0., 0., 0., 0., 0., 0., 1., 0.]),\n",
       "  array([7., 0., 0., 0., 0., 0., 0., 0., 0., 1.]),\n",
       "  array([7., 0., 0., 0., 0., 0., 0., 0., 0., 1.]),\n",
       "  array([7., 0., 0., 0., 0., 0., 0., 0., 0., 1.]),\n",
       "  array([7., 0., 0., 0., 0., 0., 0., 0., 0., 1.]),\n",
       "  array([7., 0., 0., 0., 0., 0., 0., 0., 0., 1.]),\n",
       "  array([7., 0., 0., 0., 0., 0., 0., 0., 0., 1.]),\n",
       "  array([7., 0., 0., 0., 0., 0., 0., 0., 0., 1.]),\n",
       "  array([7., 0., 0., 0., 0., 0., 0., 0., 0., 1.]),\n",
       "  array([7., 0., 0., 0., 0., 0., 0., 0., 0., 1.]),\n",
       "  array([7., 0., 0., 0., 0., 0., 0., 0., 1., 0.]),\n",
       "  array([7., 0., 0., 0., 0., 0., 0., 0., 0., 1.]),\n",
       "  array([7., 0., 0., 0., 0., 0., 0., 0., 0., 1.]),\n",
       "  array([7., 0., 0., 0., 0., 0., 0., 0., 1., 0.]),\n",
       "  array([7., 0., 0., 0., 0., 0., 0., 0., 1., 0.]),\n",
       "  array([7., 0., 0., 0., 0., 0., 0., 0., 1., 0.]),\n",
       "  array([7., 0., 0., 0., 0., 0., 0., 0., 1., 0.]),\n",
       "  array([7., 0., 0., 0., 0., 0., 0., 0., 0., 1.]),\n",
       "  array([7., 0., 0., 0., 0., 0., 0., 0., 0., 1.]),\n",
       "  array([7., 0., 0., 0., 0., 0., 0., 0., 0., 1.]),\n",
       "  array([7., 0., 0., 0., 0., 0., 0., 0., 0., 1.]),\n",
       "  array([7., 0., 0., 0., 0., 0., 0., 0., 0., 1.]),\n",
       "  array([7., 0., 0., 0., 0., 0., 0., 0., 1., 0.]),\n",
       "  array([7., 0., 0., 0., 0., 0., 0., 0., 0., 1.]),\n",
       "  array([7., 0., 0., 0., 0., 0., 0., 0., 0., 1.]),\n",
       "  array([7., 0., 0., 0., 0., 0., 0., 0., 0., 1.]),\n",
       "  array([7., 0., 0., 0., 0., 0., 0., 0., 0., 1.]),\n",
       "  array([7., 0., 0., 0., 0., 0., 0., 0., 0., 1.]),\n",
       "  array([7., 0., 0., 0., 0., 0., 0., 0., 0., 1.]),\n",
       "  array([7., 0., 0., 0., 0., 0., 0., 0., 0., 1.]),\n",
       "  array([7., 0., 0., 0., 0., 0., 0., 0., 1., 0.]),\n",
       "  array([7., 0., 0., 0., 0., 0., 0., 0., 0., 1.]),\n",
       "  array([7., 0., 0., 0., 0., 0., 0., 0., 0., 1.]),\n",
       "  array([7., 0., 0., 0., 0., 0., 0., 0., 0., 1.]),\n",
       "  array([7., 0., 0., 0., 0., 0., 0., 0., 0., 1.]),\n",
       "  array([7., 0., 0., 0., 0., 0., 0., 0., 0., 1.]),\n",
       "  array([7., 0., 0., 0., 0., 0., 0., 0., 0., 1.]),\n",
       "  array([7., 0., 0., 0., 0., 0., 0., 0., 0., 1.]),\n",
       "  array([7., 0., 0., 0., 0., 0., 0., 0., 0., 1.]),\n",
       "  array([7., 0., 0., 0., 0., 0., 0., 0., 1., 0.]),\n",
       "  array([7., 0., 0., 0., 0., 0., 0., 0., 0., 1.]),\n",
       "  array([7., 0., 0., 0., 0., 0., 0., 0., 0., 1.]),\n",
       "  array([7., 0., 0., 0., 0., 0., 0., 0., 0., 1.]),\n",
       "  array([7., 0., 0., 0., 0., 0., 0., 0., 0., 1.]),\n",
       "  array([7., 0., 0., 0., 0., 0., 0., 0., 0., 1.]),\n",
       "  array([7., 0., 0., 0., 0., 0., 0., 0., 0., 1.]),\n",
       "  array([7., 0., 0., 0., 0., 0., 0., 0., 0., 1.]),\n",
       "  array([7., 0., 0., 0., 0., 0., 0., 0., 1., 0.]),\n",
       "  array([7., 0., 0., 0., 0., 0., 0., 0., 0., 1.]),\n",
       "  array([7., 0., 0., 0., 0., 0., 0., 0., 0., 1.]),\n",
       "  array([7., 0., 0., 0., 0., 0., 0., 0., 0., 1.]),\n",
       "  array([7., 0., 0., 0., 0., 0., 0., 0., 1., 0.]),\n",
       "  array([7., 0., 0., 0., 0., 0., 0., 0., 0., 1.]),\n",
       "  array([7., 0., 0., 0., 0., 0., 0., 0., 0., 1.]),\n",
       "  array([7., 0., 0., 0., 0., 0., 0., 0., 1., 0.]),\n",
       "  array([7., 0., 0., 0., 0., 0., 0., 0., 0., 1.]),\n",
       "  array([7., 0., 0., 0., 0., 0., 0., 0., 1., 0.]),\n",
       "  array([7., 0., 0., 0., 0., 0., 0., 0., 0., 1.]),\n",
       "  array([7., 0., 0., 0., 0., 0., 0., 0., 0., 1.]),\n",
       "  array([7., 0., 0., 0., 0., 0., 0., 0., 0., 1.]),\n",
       "  array([7., 0., 0., 0., 0., 0., 0., 0., 0., 1.]),\n",
       "  array([7., 0., 0., 0., 0., 0., 0., 0., 1., 0.]),\n",
       "  array([7., 0., 0., 0., 0., 0., 0., 0., 1., 0.]),\n",
       "  array([7., 0., 0., 0., 0., 0., 0., 0., 0., 1.]),\n",
       "  array([7., 0., 0., 0., 0., 0., 0., 0., 0., 1.]),\n",
       "  array([7., 0., 0., 0., 0., 0., 0., 0., 0., 1.]),\n",
       "  array([7., 0., 0., 0., 0., 0., 0., 0., 0., 1.]),\n",
       "  array([7., 0., 0., 0., 0., 0., 0., 0., 1., 0.]),\n",
       "  array([7., 0., 0., 0., 0., 0., 0., 0., 1., 0.]),\n",
       "  array([7., 0., 0., 0., 0., 1., 0., 0., 0., 0.]),\n",
       "  array([7., 0., 0., 0., 0., 0., 0., 0., 0., 1.]),\n",
       "  array([7., 0., 0., 0., 0., 0., 0., 0., 0., 1.]),\n",
       "  array([7., 0., 0., 0., 0., 0., 0., 0., 0., 1.]),\n",
       "  array([7., 0., 0., 0., 0., 0., 0., 0., 1., 0.]),\n",
       "  array([7., 0., 0., 0., 0., 0., 0., 0., 0., 1.]),\n",
       "  array([7., 0., 0., 0., 0., 0., 0., 0., 0., 1.]),\n",
       "  array([7., 0., 0., 0., 0., 0., 0., 0., 0., 1.]),\n",
       "  array([7., 0., 0., 0., 0., 0., 0., 0., 1., 0.]),\n",
       "  array([7., 0., 0., 0., 0., 0., 0., 0., 0., 1.]),\n",
       "  array([7., 0., 0., 0., 0., 0., 0., 0., 0., 1.]),\n",
       "  array([7., 0., 0., 0., 0., 0., 0., 0., 0., 1.]),\n",
       "  array([7., 0., 0., 0., 0., 0., 0., 0., 0., 1.]),\n",
       "  array([7., 0., 0., 0., 0., 0., 0., 0., 0., 1.]),\n",
       "  array([7., 0., 0., 0., 0., 0., 0., 0., 0., 1.]),\n",
       "  array([7., 0., 0., 0., 0., 0., 0., 0., 0., 1.]),\n",
       "  array([7., 0., 0., 0., 0., 0., 0., 0., 0., 1.]),\n",
       "  array([7., 0., 0., 0., 0., 0., 0., 0., 1., 0.]),\n",
       "  array([7., 0., 0., 0., 0., 0., 0., 0., 0., 1.]),\n",
       "  array([7., 0., 0., 0., 0., 0., 0., 0., 1., 0.]),\n",
       "  array([7., 0., 0., 0., 0., 0., 0., 0., 1., 0.]),\n",
       "  array([7., 0., 0., 0., 0., 0., 0., 0., 0., 1.]),\n",
       "  array([7., 0., 0., 0., 0., 0., 0., 0., 0., 1.]),\n",
       "  array([7., 0., 0., 0., 0., 0., 0., 0., 0., 1.]),\n",
       "  array([7., 0., 0., 0., 0., 0., 0., 0., 0., 1.]),\n",
       "  array([7., 0., 0., 1., 0., 0., 0., 0., 0., 0.]),\n",
       "  array([7., 0., 0., 0., 0., 0., 0., 0., 0., 1.]),\n",
       "  array([7., 0., 0., 0., 0., 0., 0., 0., 1., 0.]),\n",
       "  array([7., 0., 0., 0., 0., 0., 0., 0., 0., 1.]),\n",
       "  array([7., 0., 0., 0., 0., 0., 0., 0., 0., 1.]),\n",
       "  array([7., 0., 0., 0., 0., 0., 0., 0., 0., 1.]),\n",
       "  array([7., 0., 0., 0., 0., 0., 0., 0., 1., 0.]),\n",
       "  array([7., 0., 0., 0., 0., 0., 0., 0., 1., 0.]),\n",
       "  array([7., 0., 0., 0., 0., 0., 0., 0., 0., 1.]),\n",
       "  array([7., 0., 0., 0., 0., 0., 0., 0., 0., 1.]),\n",
       "  array([7., 0., 0., 0., 0., 0., 0., 0., 0., 1.]),\n",
       "  array([7., 0., 0., 0., 0., 0., 0., 0., 0., 1.]),\n",
       "  array([7., 0., 0., 0., 0., 0., 0., 0., 1., 0.]),\n",
       "  array([7., 0., 0., 0., 0., 0., 0., 0., 0., 1.]),\n",
       "  array([7., 0., 0., 0., 0., 0., 0., 0., 0., 1.]),\n",
       "  array([7., 0., 0., 0., 0., 0., 0., 0., 0., 1.]),\n",
       "  array([7., 0., 0., 0., 0., 0., 0., 0., 0., 1.]),\n",
       "  array([7., 0., 0., 0., 0., 0., 0., 0., 0., 1.]),\n",
       "  array([7., 0., 0., 0., 0., 0., 0., 0., 1., 0.]),\n",
       "  array([7., 0., 0., 0., 0., 0., 0., 0., 0., 1.]),\n",
       "  array([7., 0., 0., 0., 0., 0., 0., 0., 0., 1.]),\n",
       "  array([7., 0., 0., 0., 0., 0., 0., 0., 0., 1.]),\n",
       "  array([7., 0., 0., 0., 0., 0., 0., 0., 0., 1.]),\n",
       "  array([7., 0., 0., 1., 0., 0., 0., 0., 0., 0.]),\n",
       "  array([7., 0., 0., 0., 0., 0., 0., 0., 0., 1.]),\n",
       "  array([7., 0., 0., 0., 0., 0., 0., 0., 0., 1.]),\n",
       "  array([7., 0., 0., 0., 0., 0., 0., 0., 0., 1.]),\n",
       "  array([7., 0., 0., 0., 0., 0., 0., 0., 0., 1.]),\n",
       "  array([7., 0., 0., 0., 0., 0., 0., 0., 0., 1.]),\n",
       "  array([7., 0., 0., 0., 0., 0., 0., 0., 0., 1.]),\n",
       "  array([7., 0., 0., 0., 0., 0., 0., 0., 0., 1.]),\n",
       "  array([7., 0., 0., 0., 0., 0., 0., 0., 0., 1.]),\n",
       "  array([7., 0., 0., 0., 0., 0., 0., 0., 1., 0.]),\n",
       "  array([7., 0., 0., 0., 0., 0., 0., 0., 0., 1.]),\n",
       "  array([7., 0., 0., 0., 0., 0., 0., 0., 0., 1.]),\n",
       "  array([7., 0., 0., 0., 0., 0., 0., 0., 0., 1.]),\n",
       "  array([7., 0., 0., 0., 0., 0., 0., 0., 0., 1.]),\n",
       "  array([7., 0., 0., 0., 0., 0., 0., 0., 0., 1.]),\n",
       "  array([7., 0., 0., 0., 0., 0., 0., 0., 0., 1.]),\n",
       "  array([7., 0., 0., 0., 0., 0., 0., 0., 0., 1.]),\n",
       "  array([7., 0., 0., 0., 0., 0., 0., 0., 0., 1.]),\n",
       "  array([7., 0., 0., 0., 0., 0., 0., 0., 1., 0.]),\n",
       "  array([7., 0., 0., 0., 0., 0., 0., 0., 1., 0.]),\n",
       "  array([7., 0., 0., 0., 0., 0., 0., 0., 1., 0.]),\n",
       "  array([7., 0., 0., 0., 0., 0., 0., 0., 0., 1.]),\n",
       "  array([7., 0., 0., 0., 0., 0., 0., 0., 0., 1.]),\n",
       "  array([7., 0., 0., 0., 0., 0., 0., 0., 0., 1.]),\n",
       "  array([7., 0., 0., 0., 0., 0., 0., 0., 0., 1.]),\n",
       "  array([7., 0., 0., 0., 0., 0., 0., 0., 1., 0.]),\n",
       "  array([7., 0., 0., 0., 0., 0., 0., 0., 0., 1.]),\n",
       "  array([7., 0., 0., 0., 0., 0., 0., 0., 1., 0.]),\n",
       "  array([7., 0., 0., 0., 0., 0., 0., 0., 0., 1.]),\n",
       "  array([7., 0., 0., 0., 0., 0., 0., 0., 0., 1.]),\n",
       "  array([7., 0., 0., 0., 0., 0., 0., 0., 0., 1.]),\n",
       "  array([7., 0., 0., 0., 0., 0., 0., 0., 1., 0.]),\n",
       "  array([7., 0., 0., 0., 0., 0., 0., 0., 1., 0.]),\n",
       "  array([7., 0., 0., 0., 0., 0., 0., 0., 0., 1.]),\n",
       "  array([7., 0., 0., 0., 0., 0., 0., 0., 0., 1.]),\n",
       "  array([7., 0., 0., 0., 0., 0., 0., 0., 1., 0.]),\n",
       "  array([7., 0., 0., 0., 0., 0., 0., 0., 1., 0.]),\n",
       "  array([7., 0., 0., 0., 0., 0., 0., 0., 0., 1.]),\n",
       "  array([7., 0., 0., 0., 0., 0., 0., 0., 0., 1.]),\n",
       "  array([7., 0., 0., 0., 0., 0., 0., 0., 1., 0.]),\n",
       "  array([7., 0., 0., 0., 0., 1., 0., 0., 0., 0.]),\n",
       "  array([7., 0., 0., 0., 0., 0., 0., 0., 0., 1.]),\n",
       "  array([7., 0., 0., 0., 0., 0., 0., 0., 0., 1.]),\n",
       "  array([7., 0., 0., 0., 0., 0., 0., 0., 1., 0.]),\n",
       "  array([7., 0., 0., 0., 0., 0., 0., 0., 0., 1.]),\n",
       "  array([7., 0., 0., 0., 0., 0., 0., 0., 0., 1.]),\n",
       "  array([7., 0., 0., 0., 0., 0., 0., 0., 0., 1.]),\n",
       "  array([7., 0., 0., 0., 0., 0., 0., 0., 1., 0.]),\n",
       "  array([7., 0., 0., 0., 0., 0., 0., 0., 0., 1.]),\n",
       "  array([7., 0., 0., 0., 0., 0., 0., 0., 1., 0.]),\n",
       "  array([7., 0., 0., 0., 0., 0., 0., 0., 0., 1.]),\n",
       "  array([7., 0., 0., 0., 0., 0., 0., 0., 0., 1.]),\n",
       "  array([7., 0., 0., 0., 0., 0., 0., 0., 1., 0.]),\n",
       "  array([7., 0., 0., 0., 0., 0., 0., 0., 0., 1.]),\n",
       "  array([7., 0., 0., 0., 0., 0., 0., 0., 0., 1.]),\n",
       "  array([7., 0., 0., 0., 0., 0., 0., 0., 1., 0.]),\n",
       "  array([7., 0., 0., 0., 0., 0., 0., 0., 0., 1.]),\n",
       "  array([7., 0., 0., 0., 0., 0., 0., 0., 0., 1.]),\n",
       "  array([7., 0., 0., 0., 0., 0., 0., 0., 0., 1.]),\n",
       "  array([7., 0., 0., 0., 0., 0., 0., 0., 0., 1.]),\n",
       "  array([7., 0., 0., 0., 0., 0., 0., 0., 0., 1.]),\n",
       "  array([7., 0., 0., 0., 0., 0., 0., 0., 1., 0.]),\n",
       "  array([7., 0., 0., 0., 0., 0., 0., 0., 1., 0.]),\n",
       "  array([7., 0., 0., 0., 0., 0., 0., 0., 0., 1.]),\n",
       "  array([7., 0., 0., 0., 0., 0., 0., 0., 1., 0.]),\n",
       "  array([7., 0., 0., 0., 0., 0., 0., 0., 1., 0.]),\n",
       "  array([7., 0., 0., 0., 0., 0., 0., 0., 1., 0.]),\n",
       "  array([7., 0., 0., 0., 0., 0., 0., 0., 0., 1.]),\n",
       "  array([7., 0., 0., 0., 0., 0., 0., 0., 0., 1.]),\n",
       "  array([7., 0., 0., 0., 0., 0., 0., 0., 0., 1.]),\n",
       "  array([7., 0., 0., 0., 0., 0., 0., 0., 0., 1.]),\n",
       "  array([7., 0., 0., 0., 0., 0., 0., 0., 0., 1.]),\n",
       "  array([7., 0., 0., 0., 0., 0., 0., 0., 0., 1.]),\n",
       "  array([7., 0., 0., 0., 0., 0., 0., 0., 0., 1.]),\n",
       "  array([7., 0., 0., 0., 0., 0., 0., 0., 1., 0.]),\n",
       "  array([7., 0., 0., 0., 0., 0., 0., 0., 0., 1.]),\n",
       "  array([7., 0., 0., 0., 0., 0., 0., 0., 0., 1.]),\n",
       "  array([7., 0., 0., 0., 0., 0., 0., 0., 0., 1.]),\n",
       "  array([7., 0., 0., 0., 0., 0., 0., 0., 0., 1.]),\n",
       "  array([7., 0., 0., 0., 0., 0., 0., 0., 0., 1.]),\n",
       "  array([7., 0., 0., 0., 0., 0., 0., 0., 1., 0.]),\n",
       "  array([7., 0., 0., 0., 0., 0., 0., 0., 0., 1.]),\n",
       "  array([7., 0., 0., 0., 0., 0., 0., 0., 0., 1.]),\n",
       "  array([7., 0., 0., 0., 0., 0., 0., 0., 0., 1.]),\n",
       "  array([7., 0., 0., 0., 0., 0., 0., 0., 0., 1.]),\n",
       "  array([7., 0., 0., 0., 0., 0., 0., 0., 0., 1.]),\n",
       "  array([7., 0., 0., 0., 0., 0., 0., 0., 1., 0.]),\n",
       "  array([7., 0., 0., 0., 0., 0., 0., 0., 1., 0.]),\n",
       "  array([7., 0., 0., 0., 0., 0., 0., 0., 1., 0.]),\n",
       "  array([7., 0., 0., 0., 0., 0., 0., 0., 0., 1.]),\n",
       "  array([7., 0., 0., 0., 0., 0., 0., 0., 0., 1.]),\n",
       "  array([7., 0., 0., 0., 0., 0., 0., 0., 0., 1.]),\n",
       "  array([7., 0., 0., 0., 0., 0., 0., 0., 0., 1.]),\n",
       "  array([7., 0., 0., 0., 0., 0., 0., 0., 0., 1.]),\n",
       "  array([7., 0., 0., 0., 0., 0., 0., 0., 0., 1.]),\n",
       "  array([7., 0., 0., 0., 0., 0., 0., 0., 0., 1.]),\n",
       "  array([7., 0., 0., 0., 0., 0., 0., 0., 0., 1.]),\n",
       "  array([7., 0., 0., 0., 0., 0., 0., 0., 0., 1.]),\n",
       "  array([7., 0., 0., 0., 0., 0., 0., 0., 0., 1.]),\n",
       "  array([7., 0., 0., 0., 0., 0., 0., 0., 0., 1.]),\n",
       "  array([7., 0., 0., 0., 0., 0., 0., 0., 1., 0.]),\n",
       "  array([7., 0., 0., 0., 0., 0., 0., 0., 0., 1.]),\n",
       "  array([7., 0., 0., 0., 0., 0., 0., 0., 0., 1.]),\n",
       "  array([7., 0., 0., 0., 0., 0., 0., 0., 1., 0.]),\n",
       "  array([7., 0., 0., 0., 0., 0., 0., 0., 0., 1.]),\n",
       "  array([7., 0., 0., 0., 0., 0., 0., 0., 0., 1.]),\n",
       "  array([7., 0., 0., 0., 0., 0., 0., 0., 0., 1.]),\n",
       "  array([7., 0., 0., 0., 0., 0., 0., 0., 0., 1.]),\n",
       "  array([7., 0., 0., 0., 0., 0., 0., 0., 0., 1.]),\n",
       "  array([7., 0., 0., 0., 0., 0., 0., 0., 0., 1.]),\n",
       "  array([7., 0., 0., 0., 0., 0., 0., 0., 0., 1.]),\n",
       "  array([7., 0., 0., 0., 0., 0., 0., 0., 0., 1.]),\n",
       "  array([7., 0., 0., 0., 0., 0., 0., 0., 0., 1.]),\n",
       "  array([7., 0., 0., 0., 0., 0., 0., 0., 0., 1.]),\n",
       "  array([7., 0., 0., 0., 0., 0., 0., 0., 0., 1.]),\n",
       "  array([7., 0., 0., 0., 0., 0., 0., 0., 0., 1.]),\n",
       "  array([7., 0., 0., 0., 0., 0., 0., 0., 0., 1.]),\n",
       "  array([7., 0., 0., 0., 0., 0., 0., 0., 0., 1.]),\n",
       "  array([7., 0., 0., 0., 0., 0., 0., 0., 0., 1.]),\n",
       "  array([7., 0., 0., 0., 0., 0., 0., 0., 1., 0.]),\n",
       "  array([7., 0., 0., 0., 0., 0., 0., 0., 0., 1.]),\n",
       "  array([7., 0., 0., 0., 0., 0., 0., 0., 0., 1.]),\n",
       "  array([7., 0., 0., 0., 0., 0., 0., 0., 1., 0.]),\n",
       "  array([7., 0., 0., 0., 0., 0., 0., 0., 0., 1.]),\n",
       "  array([7., 0., 0., 0., 0., 0., 0., 0., 0., 1.]),\n",
       "  array([7., 0., 0., 0., 0., 0., 0., 0., 0., 1.]),\n",
       "  array([7., 0., 0., 0., 0., 0., 0., 0., 0., 1.]),\n",
       "  array([7., 0., 0., 0., 0., 0., 0., 0., 0., 1.]),\n",
       "  array([7., 0., 0., 0., 0., 0., 0., 0., 0., 1.]),\n",
       "  array([7., 0., 0., 0., 0., 0., 0., 0., 0., 1.]),\n",
       "  array([7., 0., 0., 0., 0., 0., 0., 0., 0., 1.]),\n",
       "  array([7., 0., 0., 0., 0., 0., 0., 0., 0., 1.]),\n",
       "  array([7., 0., 0., 0., 0., 0., 0., 0., 0., 1.]),\n",
       "  array([7., 0., 0., 0., 0., 0., 0., 0., 0., 1.]),\n",
       "  array([7., 0., 0., 0., 0., 0., 0., 0., 1., 0.]),\n",
       "  array([7., 0., 0., 0., 0., 0., 0., 0., 0., 1.]),\n",
       "  array([7., 0., 0., 0., 0., 0., 0., 0., 0., 1.]),\n",
       "  array([7., 0., 0., 0., 0., 0., 0., 0., 1., 0.]),\n",
       "  array([7., 0., 0., 0., 0., 0., 0., 0., 0., 1.]),\n",
       "  array([7., 0., 0., 0., 0., 0., 0., 0., 1., 0.]),\n",
       "  array([7., 0., 0., 0., 0., 0., 0., 0., 1., 0.]),\n",
       "  array([7., 0., 0., 0., 0., 0., 0., 0., 0., 1.]),\n",
       "  array([7., 0., 0., 0., 0., 0., 0., 0., 0., 1.]),\n",
       "  array([7., 0., 0., 0., 0., 0., 0., 0., 1., 0.]),\n",
       "  array([7., 0., 0., 0., 0., 0., 0., 0., 0., 1.]),\n",
       "  array([7., 0., 0., 0., 0., 0., 0., 0., 0., 1.]),\n",
       "  array([7., 0., 0., 0., 0., 0., 0., 0., 1., 0.]),\n",
       "  array([7., 0., 0., 0., 0., 0., 0., 0., 0., 1.]),\n",
       "  array([7., 0., 0., 0., 0., 0., 0., 0., 0., 1.]),\n",
       "  array([7., 0., 0., 0., 0., 0., 0., 0., 0., 1.]),\n",
       "  array([7., 0., 0., 0., 0., 0., 0., 0., 0., 1.]),\n",
       "  array([7., 0., 0., 0., 0., 0., 0., 0., 0., 1.]),\n",
       "  array([7., 0., 0., 0., 0., 0., 0., 0., 1., 0.]),\n",
       "  array([7., 0., 0., 0., 0., 0., 0., 0., 0., 1.]),\n",
       "  array([7., 0., 0., 0., 0., 0., 0., 0., 0., 1.]),\n",
       "  array([7., 0., 0., 0., 0., 0., 0., 0., 0., 1.]),\n",
       "  array([7., 0., 0., 0., 0., 0., 0., 0., 0., 1.]),\n",
       "  array([7., 0., 0., 0., 0., 0., 0., 0., 1., 0.]),\n",
       "  array([7., 0., 0., 0., 0., 0., 0., 0., 0., 1.]),\n",
       "  array([7., 0., 0., 0., 0., 0., 0., 0., 0., 1.]),\n",
       "  array([7., 0., 0., 0., 0., 0., 0., 0., 0., 1.]),\n",
       "  array([7., 0., 0., 0., 0., 0., 0., 0., 0., 1.]),\n",
       "  array([7., 0., 0., 0., 0., 0., 0., 0., 1., 0.]),\n",
       "  array([7., 0., 0., 0., 0., 0., 0., 0., 0., 1.]),\n",
       "  array([7., 0., 0., 0., 0., 0., 0., 0., 0., 1.]),\n",
       "  array([7., 0., 0., 0., 0., 0., 0., 0., 1., 0.]),\n",
       "  array([7., 0., 0., 0., 0., 0., 0., 0., 0., 1.]),\n",
       "  array([7., 0., 0., 0., 0., 0., 0., 0., 1., 0.]),\n",
       "  array([7., 0., 0., 0., 0., 0., 0., 0., 0., 1.]),\n",
       "  array([7., 0., 0., 0., 0., 0., 0., 0., 0., 1.])],\n",
       " array([   0.,  100.,  200.,  300.,  400.,  500.,  600.,  700.,  800.,\n",
       "         900., 1000.]),\n",
       " <a list of 346 Lists of Patches objects>)"
      ]
     },
     "execution_count": 18,
     "metadata": {},
     "output_type": "execute_result"
    },
    {
     "data": {
      "image/png": "[encoded data removed]",
      "text/plain": [
       "<Figure size 432x288 with 1 Axes>"
      ]
     },
     "metadata": {
      "needs_background": "light"
     },
     "output_type": "display_data"
    }
   ],
   "source": [
    "plt.hist(X)"
   ]
  },
  {
   "cell_type": "markdown",
   "metadata": {
    "button": false,
    "new_sheet": false,
    "run_control": {
     "read_only": false
    }
   },
   "source": [
    "## Normalize Data "
   ]
  },
  {
   "cell_type": "markdown",
   "metadata": {
    "button": false,
    "new_sheet": false,
    "run_control": {
     "read_only": false
    }
   },
   "source": [
    "Data Standardization give data zero mean and unit variance (technically should be done after train test split )"
   ]
  },
  {
   "cell_type": "code",
   "execution_count": 19,
   "metadata": {
    "button": false,
    "new_sheet": false,
    "run_control": {
     "read_only": false
    }
   },
   "outputs": [
    {
     "data": {
      "text/plain": [
       "array([[ 0.51578458,  0.92071769,  2.33152555, -0.42056004, -1.20577805,\n",
       "        -0.38170062,  1.13639374, -0.86968108],\n",
       "       [ 0.51578458,  0.92071769,  0.34170148,  2.37778177, -1.20577805,\n",
       "         2.61985426, -0.87997669, -0.86968108],\n",
       "       [ 0.51578458, -0.95911111, -0.65321055, -0.42056004, -1.20577805,\n",
       "        -0.38170062, -0.87997669,  1.14984679],\n",
       "       [ 0.51578458,  0.92071769, -0.48739188,  2.37778177,  0.82934003,\n",
       "        -0.38170062, -0.87997669,  1.14984679],\n",
       "       [ 0.51578458,  0.92071769, -0.3215732 , -0.42056004,  0.82934003,\n",
       "        -0.38170062, -0.87997669,  1.14984679]])"
      ]
     },
     "execution_count": 19,
     "metadata": {},
     "output_type": "execute_result"
    }
   ],
   "source": [
    "X= preprocessing.StandardScaler().fit(X).transform(X)\n",
    "X[0:5]"
   ]
  },
  {
   "cell_type": "code",
   "execution_count": 20,
   "metadata": {},
   "outputs": [
    {
     "data": {
      "text/plain": [
       "([array([  3.,   2.,   0.,   0.,  81.,   2., 258.,   0.,   0.,   0.]),\n",
       "  array([  0.,   0.,   0.,   0.,  14., 148.,   0., 184.,   0.,   0.]),\n",
       "  array([  0.,   0.,   0.,   0.,  26., 108., 124.,  57.,  24.,   7.]),\n",
       "  array([  0.,   0.,   0.,   0.,   0., 294.,   0.,   0.,  52.,   0.]),\n",
       "  array([  0.,   0.,   0.,   0.,   0., 141.,   0., 205.,   0.,   0.]),\n",
       "  array([  0.,   0.,   0.,   0.,   0., 302.,   0.,   0.,   0.,  44.]),\n",
       "  array([  0.,   0.,   0.,   0.,   0., 195.,   0., 151.,   0.,   0.]),\n",
       "  array([  0.,   0.,   0.,   0.,   0., 197.,   0., 149.,   0.,   0.])],\n",
       " array([-5.89052444, -4.96882824, -4.04713204, -3.12543584, -2.20373963,\n",
       "        -1.28204343, -0.36034723,  0.56134897,  1.48304517,  2.40474138,\n",
       "         3.32643758]),\n",
       " <a list of 8 Lists of Patches objects>)"
      ]
     },
     "execution_count": 20,
     "metadata": {},
     "output_type": "execute_result"
    },
    {
     "data": {
      "image/png": "[encoded data removed]",
      "text/plain": [
       "<Figure size 432x288 with 1 Axes>"
      ]
     },
     "metadata": {
      "needs_background": "light"
     },
     "output_type": "display_data"
    }
   ],
   "source": [
    "plt.hist(X)"
   ]
  },
  {
   "cell_type": "markdown",
   "metadata": {
    "button": false,
    "new_sheet": false,
    "run_control": {
     "read_only": false
    }
   },
   "source": [
    "# Classification "
   ]
  },
  {
   "cell_type": "markdown",
   "metadata": {
    "button": false,
    "new_sheet": false,
    "run_control": {
     "read_only": false
    }
   },
   "source": [
    "Now, it is your turn, use the training set to build an accurate model. Then use the test set to report the accuracy of the model\n",
    "You should use the following algorithm:\n",
    "- K Nearest Neighbor(KNN)\n",
    "- Decision Tree\n",
    "- Support Vector Machine\n",
    "- Logistic Regression\n",
    "\n",
    "\n",
    "\n",
    "__ Notice:__ \n",
    "- You can go above and change the pre-processing, feature selection, feature-extraction, and so on, to make a better model.\n",
    "- You should use either scikit-learn, Scipy or Numpy libraries for developing the classification algorithms.\n",
    "- You should include the code of the algorithm in the following cells."
   ]
  },
  {
   "cell_type": "code",
   "execution_count": 21,
   "metadata": {},
   "outputs": [],
   "source": [
    "# Evaluation Metrices\n",
    "from sklearn.metrics import jaccard_similarity_score, f1_score, log_loss"
   ]
  },
  {
   "cell_type": "code",
   "execution_count": 22,
   "metadata": {},
   "outputs": [],
   "source": [
    "# Splitting Dataset\n",
    "from sklearn.model_selection import train_test_split\n",
    "X_train, X_test, y_train, y_test = train_test_split(X, y, test_size = 0.2, random_state = 2)"
   ]
  },
  {
   "cell_type": "markdown",
   "metadata": {},
   "source": [
    "# K Nearest Neighbor(KNN)\n",
    "Notice: You should find the best k to build the model with the best accuracy.  \n",
    "**warning:** You should not use the __loan_test.csv__ for finding the best k, however, you can split your train_loan.csv into train and test to find the best __k__."
   ]
  },
  {
   "cell_type": "code",
   "execution_count": 23,
   "metadata": {},
   "outputs": [
    {
     "data": {
      "text/html": [
       "<div>\n",
       "<style scoped>\n",
       "    .dataframe tbody tr th:only-of-type {\n",
       "        vertical-align: middle;\n",
       "    }\n",
       "\n",
       "    .dataframe tbody tr th {\n",
       "        vertical-align: top;\n",
       "    }\n",
       "\n",
       "    .dataframe thead th {\n",
       "        text-align: right;\n",
       "    }\n",
       "</style>\n",
       "<table border=\"1\" class=\"dataframe\">\n",
       "  <thead>\n",
       "    <tr style=\"text-align: right;\">\n",
       "      <th></th>\n",
       "      <th>Unnamed: 0</th>\n",
       "      <th>Unnamed: 0.1</th>\n",
       "      <th>loan_status</th>\n",
       "      <th>Principal</th>\n",
       "      <th>terms</th>\n",
       "      <th>effective_date</th>\n",
       "      <th>due_date</th>\n",
       "      <th>age</th>\n",
       "      <th>education</th>\n",
       "      <th>Gender</th>\n",
       "      <th>dayofweek</th>\n",
       "      <th>weekend</th>\n",
       "    </tr>\n",
       "  </thead>\n",
       "  <tbody>\n",
       "    <tr>\n",
       "      <th>0</th>\n",
       "      <td>0</td>\n",
       "      <td>0</td>\n",
       "      <td>PAIDOFF</td>\n",
       "      <td>1000</td>\n",
       "      <td>30</td>\n",
       "      <td>2016-09-08</td>\n",
       "      <td>2016-10-07</td>\n",
       "      <td>45</td>\n",
       "      <td>High School or Below</td>\n",
       "      <td>0</td>\n",
       "      <td>3</td>\n",
       "      <td>0</td>\n",
       "    </tr>\n",
       "    <tr>\n",
       "      <th>1</th>\n",
       "      <td>2</td>\n",
       "      <td>2</td>\n",
       "      <td>PAIDOFF</td>\n",
       "      <td>1000</td>\n",
       "      <td>30</td>\n",
       "      <td>2016-09-08</td>\n",
       "      <td>2016-10-07</td>\n",
       "      <td>33</td>\n",
       "      <td>Bechalor</td>\n",
       "      <td>1</td>\n",
       "      <td>3</td>\n",
       "      <td>0</td>\n",
       "    </tr>\n",
       "    <tr>\n",
       "      <th>2</th>\n",
       "      <td>3</td>\n",
       "      <td>3</td>\n",
       "      <td>PAIDOFF</td>\n",
       "      <td>1000</td>\n",
       "      <td>15</td>\n",
       "      <td>2016-09-08</td>\n",
       "      <td>2016-09-22</td>\n",
       "      <td>27</td>\n",
       "      <td>college</td>\n",
       "      <td>0</td>\n",
       "      <td>3</td>\n",
       "      <td>0</td>\n",
       "    </tr>\n",
       "    <tr>\n",
       "      <th>3</th>\n",
       "      <td>4</td>\n",
       "      <td>4</td>\n",
       "      <td>PAIDOFF</td>\n",
       "      <td>1000</td>\n",
       "      <td>30</td>\n",
       "      <td>2016-09-09</td>\n",
       "      <td>2016-10-08</td>\n",
       "      <td>28</td>\n",
       "      <td>college</td>\n",
       "      <td>1</td>\n",
       "      <td>4</td>\n",
       "      <td>1</td>\n",
       "    </tr>\n",
       "    <tr>\n",
       "      <th>4</th>\n",
       "      <td>6</td>\n",
       "      <td>6</td>\n",
       "      <td>PAIDOFF</td>\n",
       "      <td>1000</td>\n",
       "      <td>30</td>\n",
       "      <td>2016-09-09</td>\n",
       "      <td>2016-10-08</td>\n",
       "      <td>29</td>\n",
       "      <td>college</td>\n",
       "      <td>0</td>\n",
       "      <td>4</td>\n",
       "      <td>1</td>\n",
       "    </tr>\n",
       "  </tbody>\n",
       "</table>\n",
       "</div>"
      ],
      "text/plain": [
       "   Unnamed: 0  Unnamed: 0.1 loan_status  Principal  terms effective_date  \\\n",
       "0           0             0     PAIDOFF       1000     30     2016-09-08   \n",
       "1           2             2     PAIDOFF       1000     30     2016-09-08   \n",
       "2           3             3     PAIDOFF       1000     15     2016-09-08   \n",
       "3           4             4     PAIDOFF       1000     30     2016-09-09   \n",
       "4           6             6     PAIDOFF       1000     30     2016-09-09   \n",
       "\n",
       "    due_date  age             education  Gender  dayofweek  weekend  \n",
       "0 2016-10-07   45  High School or Below       0          3        0  \n",
       "1 2016-10-07   33              Bechalor       1          3        0  \n",
       "2 2016-09-22   27               college       0          3        0  \n",
       "3 2016-10-08   28               college       1          4        1  \n",
       "4 2016-10-08   29               college       0          4        1  "
      ]
     },
     "execution_count": 23,
     "metadata": {},
     "output_type": "execute_result"
    }
   ],
   "source": [
    "df.head()"
   ]
  },
  {
   "cell_type": "code",
   "execution_count": 24,
   "metadata": {},
   "outputs": [],
   "source": [
    "from sklearn.neighbors import KNeighborsClassifier as knn\n",
    "from sklearn.metrics import accuracy_score\n",
    "\n",
    "ks = range(1, 10)\n",
    "mean_accuracy = []\n",
    "\n",
    "for n in ks:\n",
    "    knn_model  = knn(n_neighbors = n)\n",
    "    knn_model.fit(X_train, y_train)\n",
    "    knn_yhat = knn_model.predict(X_test)\n",
    "    mean_accuracy.append(accuracy_score(y_test, knn_yhat))"
   ]
  },
  {
   "cell_type": "code",
   "execution_count": 25,
   "metadata": {},
   "outputs": [
    {
     "name": "stdout",
     "output_type": "stream",
     "text": [
      "k = 1 has a Score = 0.6428571428571429 \n",
      "k = 2 has a Score = 0.5571428571428572 \n",
      "k = 3 has a Score = 0.7142857142857143 \n",
      "k = 4 has a Score = 0.6285714285714286 \n",
      "k = 5 has a Score = 0.7571428571428571 \n",
      "k = 6 has a Score = 0.6571428571428571 \n",
      "k = 7 has a Score = 0.7571428571428571 \n",
      "k = 8 has a Score = 0.7142857142857143 \n",
      "k = 9 has a Score = 0.7 \n"
     ]
    }
   ],
   "source": [
    "for i in range(0, len(mean_accuracy)):\n",
    "    print(\"k = {} has a Score = {} \".format(i+1, mean_accuracy[i]))"
   ]
  },
  {
   "cell_type": "code",
   "execution_count": 26,
   "metadata": {},
   "outputs": [
    {
     "data": {
      "text/plain": [
       "Text(0, 0.5, 'Testing Accuracy Values')"
      ]
     },
     "execution_count": 26,
     "metadata": {},
     "output_type": "execute_result"
    },
    {
     "data": {
      "image/png": "[encoded data removed]",
      "text/plain": [
       "<Figure size 432x288 with 1 Axes>"
      ]
     },
     "metadata": {
      "needs_background": "light"
     },
     "output_type": "display_data"
    }
   ],
   "source": [
    "# Relation between k's and their respective accuracies\n",
    "\n",
    "plt.plot(ks, mean_accuracy)\n",
    "plt.xlabel('Values of K')\n",
    "plt.ylabel('Testing Accuracy Values')"
   ]
  },
  {
   "cell_type": "code",
   "execution_count": 27,
   "metadata": {},
   "outputs": [
    {
     "data": {
      "text/plain": [
       "KNeighborsClassifier(algorithm='auto', leaf_size=30, metric='minkowski',\n",
       "                     metric_params=None, n_jobs=None, n_neighbors=7, p=2,\n",
       "                     weights='uniform')"
      ]
     },
     "execution_count": 27,
     "metadata": {},
     "output_type": "execute_result"
    }
   ],
   "source": [
    "# Final Model with best value of k\n",
    "\n",
    "knn_model = knn(n_neighbors = 7)\n",
    "knn_model.fit(X_train, y_train)\n",
    "knn_yhat = knn_model.predict(X_test)\n",
    "\n",
    "knn_model"
   ]
  },
  {
   "cell_type": "markdown",
   "metadata": {},
   "source": [
    "# Decision Tree"
   ]
  },
  {
   "cell_type": "code",
   "execution_count": 28,
   "metadata": {},
   "outputs": [],
   "source": [
    "# Libraries\n",
    "from sklearn.tree import DecisionTreeClassifier \n",
    "from sklearn.metrics import jaccard_similarity_score\n",
    "from sklearn.metrics import f1_score"
   ]
  },
  {
   "cell_type": "code",
   "execution_count": 29,
   "metadata": {},
   "outputs": [
    {
     "name": "stderr",
     "output_type": "stream",
     "text": [
      "C:\\Users\\DELL\\anaconda3\\lib\\site-packages\\sklearn\\metrics\\_classification.py:664: FutureWarning: jaccard_similarity_score has been deprecated and replaced with jaccard_score. It will be removed in version 0.23. This implementation has surprising behavior for binary and multiclass classification tasks.\n",
      "  FutureWarning)\n",
      "C:\\Users\\DELL\\anaconda3\\lib\\site-packages\\sklearn\\metrics\\_classification.py:664: FutureWarning: jaccard_similarity_score has been deprecated and replaced with jaccard_score. It will be removed in version 0.23. This implementation has surprising behavior for binary and multiclass classification tasks.\n",
      "  FutureWarning)\n",
      "C:\\Users\\DELL\\anaconda3\\lib\\site-packages\\sklearn\\metrics\\_classification.py:664: FutureWarning: jaccard_similarity_score has been deprecated and replaced with jaccard_score. It will be removed in version 0.23. This implementation has surprising behavior for binary and multiclass classification tasks.\n",
      "  FutureWarning)\n",
      "C:\\Users\\DELL\\anaconda3\\lib\\site-packages\\sklearn\\metrics\\_classification.py:664: FutureWarning: jaccard_similarity_score has been deprecated and replaced with jaccard_score. It will be removed in version 0.23. This implementation has surprising behavior for binary and multiclass classification tasks.\n",
      "  FutureWarning)\n",
      "C:\\Users\\DELL\\anaconda3\\lib\\site-packages\\sklearn\\metrics\\_classification.py:664: FutureWarning: jaccard_similarity_score has been deprecated and replaced with jaccard_score. It will be removed in version 0.23. This implementation has surprising behavior for binary and multiclass classification tasks.\n",
      "  FutureWarning)\n",
      "C:\\Users\\DELL\\anaconda3\\lib\\site-packages\\sklearn\\metrics\\_classification.py:664: FutureWarning: jaccard_similarity_score has been deprecated and replaced with jaccard_score. It will be removed in version 0.23. This implementation has surprising behavior for binary and multiclass classification tasks.\n",
      "  FutureWarning)\n",
      "C:\\Users\\DELL\\anaconda3\\lib\\site-packages\\sklearn\\metrics\\_classification.py:664: FutureWarning: jaccard_similarity_score has been deprecated and replaced with jaccard_score. It will be removed in version 0.23. This implementation has surprising behavior for binary and multiclass classification tasks.\n",
      "  FutureWarning)\n",
      "C:\\Users\\DELL\\anaconda3\\lib\\site-packages\\sklearn\\metrics\\_classification.py:664: FutureWarning: jaccard_similarity_score has been deprecated and replaced with jaccard_score. It will be removed in version 0.23. This implementation has surprising behavior for binary and multiclass classification tasks.\n",
      "  FutureWarning)\n",
      "C:\\Users\\DELL\\anaconda3\\lib\\site-packages\\sklearn\\metrics\\_classification.py:664: FutureWarning: jaccard_similarity_score has been deprecated and replaced with jaccard_score. It will be removed in version 0.23. This implementation has surprising behavior for binary and multiclass classification tasks.\n",
      "  FutureWarning)\n"
     ]
    }
   ],
   "source": [
    "depth_range = range(1, 10)\n",
    "jaccard_similarity_score_ = []\n",
    "f1_score_ = []\n",
    "\n",
    "for d in depth_range:\n",
    "    dt = DecisionTreeClassifier(criterion = 'gini', max_depth = d)\n",
    "    dt.fit(X_train, y_train)\n",
    "    dt_yhat = dt.predict(X_test)\n",
    "    jaccard_similarity_score_.append(jaccard_similarity_score(y_test, dt_yhat))\n",
    "    f1_score_.append(f1_score(y_test, dt_yhat, average = 'weighted'))"
   ]
  },
  {
   "cell_type": "code",
   "execution_count": 30,
   "metadata": {},
   "outputs": [
    {
     "data": {
      "text/html": [
       "<div>\n",
       "<style scoped>\n",
       "    .dataframe tbody tr th:only-of-type {\n",
       "        vertical-align: middle;\n",
       "    }\n",
       "\n",
       "    .dataframe tbody tr th {\n",
       "        vertical-align: top;\n",
       "    }\n",
       "\n",
       "    .dataframe thead th {\n",
       "        text-align: right;\n",
       "    }\n",
       "</style>\n",
       "<table border=\"1\" class=\"dataframe\">\n",
       "  <thead>\n",
       "    <tr style=\"text-align: right;\">\n",
       "      <th>Evaluation Metrices</th>\n",
       "      <th>d = 1</th>\n",
       "      <th>d = 2</th>\n",
       "      <th>d = 3</th>\n",
       "      <th>d = 4</th>\n",
       "      <th>d = 5</th>\n",
       "      <th>d = 6</th>\n",
       "      <th>d = 7</th>\n",
       "      <th>d = 8</th>\n",
       "      <th>d = 9</th>\n",
       "    </tr>\n",
       "  </thead>\n",
       "  <tbody>\n",
       "    <tr>\n",
       "      <th>Jaccard</th>\n",
       "      <td>0.828571</td>\n",
       "      <td>0.828571</td>\n",
       "      <td>0.800000</td>\n",
       "      <td>0.70000</td>\n",
       "      <td>0.642857</td>\n",
       "      <td>0.671429</td>\n",
       "      <td>0.714286</td>\n",
       "      <td>0.714286</td>\n",
       "      <td>0.742857</td>\n",
       "    </tr>\n",
       "    <tr>\n",
       "      <th>F1</th>\n",
       "      <td>0.750893</td>\n",
       "      <td>0.750893</td>\n",
       "      <td>0.736508</td>\n",
       "      <td>0.69476</td>\n",
       "      <td>0.657958</td>\n",
       "      <td>0.676571</td>\n",
       "      <td>0.722768</td>\n",
       "      <td>0.722768</td>\n",
       "      <td>0.742857</td>\n",
       "    </tr>\n",
       "  </tbody>\n",
       "</table>\n",
       "</div>"
      ],
      "text/plain": [
       "Evaluation Metrices     d = 1     d = 2     d = 3    d = 4     d = 5  \\\n",
       "Jaccard              0.828571  0.828571  0.800000  0.70000  0.642857   \n",
       "F1                   0.750893  0.750893  0.736508  0.69476  0.657958   \n",
       "\n",
       "Evaluation Metrices     d = 6     d = 7     d = 8     d = 9  \n",
       "Jaccard              0.671429  0.714286  0.714286  0.742857  \n",
       "F1                   0.676571  0.722768  0.722768  0.742857  "
      ]
     },
     "execution_count": 30,
     "metadata": {},
     "output_type": "execute_result"
    }
   ],
   "source": [
    "# Creating a df to check the best value of max_depth\n",
    "\n",
    "result = pd.DataFrame([jaccard_similarity_score_, f1_score_], index = ['Jaccard', 'F1'], columns = ['d = 1','d = 2','d = 3','d = 4','d = 5','d = 6','d = 7','d = 8','d = 9'])\n",
    "result.columns.name = 'Evaluation Metrices'\n",
    "result"
   ]
  },
  {
   "cell_type": "code",
   "execution_count": 31,
   "metadata": {},
   "outputs": [
    {
     "data": {
      "text/plain": [
       "DecisionTreeClassifier(ccp_alpha=0.0, class_weight=None, criterion='gini',\n",
       "                       max_depth=2, max_features=None, max_leaf_nodes=None,\n",
       "                       min_impurity_decrease=0.0, min_impurity_split=None,\n",
       "                       min_samples_leaf=1, min_samples_split=2,\n",
       "                       min_weight_fraction_leaf=0.0, presort='deprecated',\n",
       "                       random_state=None, splitter='best')"
      ]
     },
     "execution_count": 31,
     "metadata": {},
     "output_type": "execute_result"
    }
   ],
   "source": [
    "# Main Model\n",
    "\n",
    "dt_model = DecisionTreeClassifier(criterion = 'gini', max_depth = 2)\n",
    "dt_model.fit(X_train, y_train)\n",
    "dt_model"
   ]
  },
  {
   "cell_type": "markdown",
   "metadata": {},
   "source": [
    "# Support Vector Machine"
   ]
  },
  {
   "cell_type": "code",
   "execution_count": 32,
   "metadata": {},
   "outputs": [],
   "source": [
    "# Libraries\n",
    "\n",
    "from sklearn.svm import SVC \n",
    "from sklearn.metrics import jaccard_similarity_score\n",
    "from sklearn.metrics import f1_score\n",
    "\n",
    "import matplotlib.pyplot as plt\n",
    "%matplotlib inline"
   ]
  },
  {
   "cell_type": "code",
   "execution_count": 33,
   "metadata": {},
   "outputs": [],
   "source": [
    "kernel_func = ['sigmoid', 'poly', 'rbf', 'linear']\n",
    "accuracy_score = []\n",
    "\n",
    "for k in kernel_func:\n",
    "    svc_model = SVC(C = 0.01, gamma = 'auto', kernel = k)\n",
    "    svc_model.fit(X_train, y_train)\n",
    "    svc_yhat = svc_model.predict(X_test)\n",
    "    accuracy_score.append(f1_score(y_test, svc_yhat, average = 'weighted'))"
   ]
  },
  {
   "cell_type": "code",
   "execution_count": 34,
   "metadata": {},
   "outputs": [
    {
     "data": {
      "text/plain": [
       "Text(0, 0.5, 'Accuracy')"
      ]
     },
     "execution_count": 34,
     "metadata": {},
     "output_type": "execute_result"
    },
    {
     "data": {
      "image/png": "[encoded data removed]",
      "text/plain": [
       "<Figure size 432x288 with 1 Axes>"
      ]
     },
     "metadata": {
      "needs_background": "light"
     },
     "output_type": "display_data"
    }
   ],
   "source": [
    "# Visualization of best kernel\n",
    "\n",
    "y_pos = np.arange(len(kernel_func))\n",
    "plt.bar(y_pos, accuracy_score, align='center', alpha = 0.8)\n",
    "plt.xticks(y_pos, kernel_func)\n",
    "plt.xlabel('Kernel Functions')\n",
    "plt.ylabel('Accuracy')"
   ]
  },
  {
   "cell_type": "code",
   "execution_count": 35,
   "metadata": {},
   "outputs": [
    {
     "data": {
      "text/plain": [
       "SVC(C=0.01, break_ties=False, cache_size=200, class_weight=None, coef0=0.0,\n",
       "    decision_function_shape='ovr', degree=3, gamma='auto', kernel='poly',\n",
       "    max_iter=-1, probability=False, random_state=None, shrinking=True,\n",
       "    tol=0.001, verbose=False)"
      ]
     },
     "execution_count": 35,
     "metadata": {},
     "output_type": "execute_result"
    }
   ],
   "source": [
    "svc_model = SVC(C = 0.01, gamma = 'auto', kernel = 'poly')\n",
    "svc_model.fit(X_train, y_train)\n",
    "svc_model"
   ]
  },
  {
   "cell_type": "markdown",
   "metadata": {},
   "source": [
    "# Logistic Regression"
   ]
  },
  {
   "cell_type": "code",
   "execution_count": 36,
   "metadata": {},
   "outputs": [],
   "source": [
    "# Libraries\n",
    "\n",
    "from sklearn.linear_model import LogisticRegression \n",
    "from sklearn.metrics import log_loss\n",
    "\n",
    "import matplotlib.pyplot as plt\n",
    "%matplotlib inline"
   ]
  },
  {
   "cell_type": "code",
   "execution_count": 37,
   "metadata": {},
   "outputs": [
    {
     "name": "stdout",
     "output_type": "stream",
     "text": [
      "Test 1: Accuracy at C = 0.1 when Solver = lbfgs is : 0.43437308682010156\n",
      "Test 2: Accuracy at C = 0.1 when Solver = saga is : 0.4343733612098528\n",
      "Test 3: Accuracy at C = 0.1 when Solver = liblinear is : 0.45495073415382825\n",
      "Test 4: Accuracy at C = 0.1 when Solver = newton-cg is : 0.43437272447873787\n",
      "Test 5: Accuracy at C = 0.1 when Solver = sag is : 0.43436978869503584\n",
      "\n",
      "\n",
      "Test 6: Accuracy at C = 0.01 when Solver = lbfgs is : 0.4529024775789561\n",
      "Test 7: Accuracy at C = 0.01 when Solver = saga is : 0.4529008818760716\n",
      "Test 8: Accuracy at C = 0.01 when Solver = liblinear is : 0.5596633457155463\n",
      "Test 9: Accuracy at C = 0.01 when Solver = newton-cg is : 0.4529024348154771\n",
      "Test 10: Accuracy at C = 0.01 when Solver = sag is : 0.45291476094795247\n",
      "\n",
      "\n",
      "Test 11: Accuracy at C = 0.001 when Solver = lbfgs is : 0.4787024545768455\n",
      "Test 12: Accuracy at C = 0.001 when Solver = saga is : 0.4787026726844642\n",
      "Test 13: Accuracy at C = 0.001 when Solver = liblinear is : 0.6685399066061889\n",
      "Test 14: Accuracy at C = 0.001 when Solver = newton-cg is : 0.4787024591671967\n",
      "Test 15: Accuracy at C = 0.001 when Solver = sag is : 0.4786944764075664\n",
      "\n",
      "\n"
     ]
    }
   ],
   "source": [
    "solvers = ['lbfgs', 'saga', 'liblinear', 'newton-cg', 'sag']\n",
    "regularization_val = [0.1, 0.01, 0.001]\n",
    "index = []\n",
    "accuracy_score = []\n",
    "iterations = 0\n",
    "\n",
    "for index1, c in enumerate(regularization_val):\n",
    "    for index2, solver in enumerate(solvers):\n",
    "        index.append(index1 + index2 *5)\n",
    "        iterations +=1\n",
    "        lr_model = LogisticRegression(C = c, solver = solver)\n",
    "        lr_model.fit(X_train, y_train)\n",
    "        lr_yhat = lr_model.predict(X_test)\n",
    "        y_prob = lr_model.predict_proba(X_test)\n",
    "        print('Test {}: Accuracy at C = {} when Solver = {} is : {}'.format(iterations, c, solver, log_loss(y_test, y_prob) ))\n",
    "        accuracy_score.append(log_loss(y_test, y_prob))\n",
    "                              \n",
    "    print('\\n')"
   ]
  },
  {
   "cell_type": "code",
   "execution_count": 38,
   "metadata": {},
   "outputs": [
    {
     "data": {
      "text/plain": [
       "Text(0, 0.5, 'Testing Accuracy')"
      ]
     },
     "execution_count": 38,
     "metadata": {},
     "output_type": "execute_result"
    },
    {
     "data": {
      "image/png": "[encoded data removed]",
      "text/plain": [
       "<Figure size 432x288 with 1 Axes>"
      ]
     },
     "metadata": {
      "needs_background": "light"
     },
     "output_type": "display_data"
    }
   ],
   "source": [
    "# Visualization\n",
    "\n",
    "lr_prob = lr_model.predict_proba(X_test)\n",
    "log_loss(y_test, lr_prob)\n",
    "plt.plot(index, accuracy_score)\n",
    "plt.xlabel('Parameter Value')\n",
    "plt.ylabel('Testing Accuracy')"
   ]
  },
  {
   "cell_type": "code",
   "execution_count": 39,
   "metadata": {},
   "outputs": [
    {
     "data": {
      "text/plain": [
       "LogisticRegression(C=0.001, class_weight=None, dual=False, fit_intercept=True,\n",
       "                   intercept_scaling=1, l1_ratio=None, max_iter=100,\n",
       "                   multi_class='auto', n_jobs=None, penalty='l2',\n",
       "                   random_state=None, solver='liblinear', tol=0.0001, verbose=0,\n",
       "                   warm_start=False)"
      ]
     },
     "execution_count": 39,
     "metadata": {},
     "output_type": "execute_result"
    }
   ],
   "source": [
    "# Main Model\n",
    "\n",
    "from sklearn.linear_model import LogisticRegression \n",
    "\n",
    "lr_model = LogisticRegression(C = 0.001, solver = 'liblinear')\n",
    "lr_model.fit(X_train, y_train)\n",
    "lr_model"
   ]
  },
  {
   "cell_type": "markdown",
   "metadata": {},
   "source": [
    "# Model Evaluation using Test set"
   ]
  },
  {
   "cell_type": "code",
   "execution_count": 40,
   "metadata": {},
   "outputs": [],
   "source": [
    "from sklearn.metrics import jaccard_similarity_score\n",
    "from sklearn.metrics import f1_score\n",
    "from sklearn.metrics import log_loss"
   ]
  },
  {
   "cell_type": "markdown",
   "metadata": {},
   "source": [
    "First, download and load the test set:"
   ]
  },
  {
   "cell_type": "code",
   "execution_count": 41,
   "metadata": {},
   "outputs": [
    {
     "name": "stderr",
     "output_type": "stream",
     "text": [
      "--2020-06-26 13:02:50--  https://s3-api.us-geo.objectstorage.softlayer.net/cf-courses-data/CognitiveClass/ML0101ENv3/labs/loan_test.csv\n",
      "Resolving s3-api.us-geo.objectstorage.softlayer.net (s3-api.us-geo.objectstorage.softlayer.net)... 67.228.254.196\n",
      "Connecting to s3-api.us-geo.objectstorage.softlayer.net (s3-api.us-geo.objectstorage.softlayer.net)|67.228.254.196|:443... connected.\n",
      "HTTP request sent, awaiting response... 200 OK\n",
      "Length: 3642 (3.6K) [text/csv]\n",
      "Saving to: 'loan_test.csv'\n",
      "\n",
      "     0K ...                                                   100% 8.27M=0s\n",
      "\n",
      "2020-06-26 13:02:52 (8.27 MB/s) - 'loan_test.csv' saved [3642/3642]\n",
      "\n"
     ]
    }
   ],
   "source": [
    "!wget -O loan_test.csv https://s3-api.us-geo.objectstorage.softlayer.net/cf-courses-data/CognitiveClass/ML0101ENv3/labs/loan_test.csv"
   ]
  },
  {
   "cell_type": "markdown",
   "metadata": {
    "button": false,
    "new_sheet": false,
    "run_control": {
     "read_only": false
    }
   },
   "source": [
    "### Load Test set for evaluation "
   ]
  },
  {
   "cell_type": "code",
   "execution_count": 42,
   "metadata": {
    "button": false,
    "new_sheet": false,
    "run_control": {
     "read_only": false
    }
   },
   "outputs": [
    {
     "data": {
      "text/html": [
       "<div>\n",
       "<style scoped>\n",
       "    .dataframe tbody tr th:only-of-type {\n",
       "        vertical-align: middle;\n",
       "    }\n",
       "\n",
       "    .dataframe tbody tr th {\n",
       "        vertical-align: top;\n",
       "    }\n",
       "\n",
       "    .dataframe thead th {\n",
       "        text-align: right;\n",
       "    }\n",
       "</style>\n",
       "<table border=\"1\" class=\"dataframe\">\n",
       "  <thead>\n",
       "    <tr style=\"text-align: right;\">\n",
       "      <th></th>\n",
       "      <th>Unnamed: 0</th>\n",
       "      <th>Unnamed: 0.1</th>\n",
       "      <th>loan_status</th>\n",
       "      <th>Principal</th>\n",
       "      <th>terms</th>\n",
       "      <th>effective_date</th>\n",
       "      <th>due_date</th>\n",
       "      <th>age</th>\n",
       "      <th>education</th>\n",
       "      <th>Gender</th>\n",
       "    </tr>\n",
       "  </thead>\n",
       "  <tbody>\n",
       "    <tr>\n",
       "      <th>0</th>\n",
       "      <td>1</td>\n",
       "      <td>1</td>\n",
       "      <td>PAIDOFF</td>\n",
       "      <td>1000</td>\n",
       "      <td>30</td>\n",
       "      <td>9/8/2016</td>\n",
       "      <td>10/7/2016</td>\n",
       "      <td>50</td>\n",
       "      <td>Bechalor</td>\n",
       "      <td>female</td>\n",
       "    </tr>\n",
       "    <tr>\n",
       "      <th>1</th>\n",
       "      <td>5</td>\n",
       "      <td>5</td>\n",
       "      <td>PAIDOFF</td>\n",
       "      <td>300</td>\n",
       "      <td>7</td>\n",
       "      <td>9/9/2016</td>\n",
       "      <td>9/15/2016</td>\n",
       "      <td>35</td>\n",
       "      <td>Master or Above</td>\n",
       "      <td>male</td>\n",
       "    </tr>\n",
       "    <tr>\n",
       "      <th>2</th>\n",
       "      <td>21</td>\n",
       "      <td>21</td>\n",
       "      <td>PAIDOFF</td>\n",
       "      <td>1000</td>\n",
       "      <td>30</td>\n",
       "      <td>9/10/2016</td>\n",
       "      <td>10/9/2016</td>\n",
       "      <td>43</td>\n",
       "      <td>High School or Below</td>\n",
       "      <td>female</td>\n",
       "    </tr>\n",
       "    <tr>\n",
       "      <th>3</th>\n",
       "      <td>24</td>\n",
       "      <td>24</td>\n",
       "      <td>PAIDOFF</td>\n",
       "      <td>1000</td>\n",
       "      <td>30</td>\n",
       "      <td>9/10/2016</td>\n",
       "      <td>10/9/2016</td>\n",
       "      <td>26</td>\n",
       "      <td>college</td>\n",
       "      <td>male</td>\n",
       "    </tr>\n",
       "    <tr>\n",
       "      <th>4</th>\n",
       "      <td>35</td>\n",
       "      <td>35</td>\n",
       "      <td>PAIDOFF</td>\n",
       "      <td>800</td>\n",
       "      <td>15</td>\n",
       "      <td>9/11/2016</td>\n",
       "      <td>9/25/2016</td>\n",
       "      <td>29</td>\n",
       "      <td>Bechalor</td>\n",
       "      <td>male</td>\n",
       "    </tr>\n",
       "  </tbody>\n",
       "</table>\n",
       "</div>"
      ],
      "text/plain": [
       "   Unnamed: 0  Unnamed: 0.1 loan_status  Principal  terms effective_date  \\\n",
       "0           1             1     PAIDOFF       1000     30       9/8/2016   \n",
       "1           5             5     PAIDOFF        300      7       9/9/2016   \n",
       "2          21            21     PAIDOFF       1000     30      9/10/2016   \n",
       "3          24            24     PAIDOFF       1000     30      9/10/2016   \n",
       "4          35            35     PAIDOFF        800     15      9/11/2016   \n",
       "\n",
       "    due_date  age             education  Gender  \n",
       "0  10/7/2016   50              Bechalor  female  \n",
       "1  9/15/2016   35       Master or Above    male  \n",
       "2  10/9/2016   43  High School or Below  female  \n",
       "3  10/9/2016   26               college    male  \n",
       "4  9/25/2016   29              Bechalor    male  "
      ]
     },
     "execution_count": 42,
     "metadata": {},
     "output_type": "execute_result"
    }
   ],
   "source": [
    "test_df = pd.read_csv('loan_test.csv')\n",
    "test_df.head()"
   ]
  },
  {
   "cell_type": "code",
   "execution_count": 43,
   "metadata": {},
   "outputs": [],
   "source": [
    "test_df['due_date'] = pd.to_datetime(test_df['due_date'])\n",
    "test_df['effective_date'] = pd.to_datetime(test_df['effective_date'])\n",
    "test_df['dayofweek'] = test_df['effective_date'].dt.dayofweek\n",
    "\n",
    "test_df['weekend'] = test_df['dayofweek'].apply(lambda x: 1 if (x>3)  else 0)\n",
    "\n",
    "test_df['Gender'].replace(to_replace=['male','female'], value=[0,1],inplace=True)\n",
    "\n",
    "test_feature = test_df[['Principal','terms','age','Gender','weekend']]\n",
    "test_feature = pd.concat([test_feature,pd.get_dummies(test_df['education'])], axis=1)\n",
    "test_feature.drop(['Master or Above'], axis = 1,inplace=True)\n",
    "\n",
    "# Testing feature\n",
    "X_loan_test = test_feature\n",
    "\n",
    "# Normalizing Test Data\n",
    "X_loan_test = preprocessing.StandardScaler().fit(X_loan_test).transform(X_loan_test)\n",
    "\n",
    "# Target result\n",
    "y_loan_test = test_df['loan_status'].values"
   ]
  },
  {
   "cell_type": "code",
   "execution_count": 44,
   "metadata": {},
   "outputs": [
    {
     "name": "stdout",
     "output_type": "stream",
     "text": [
      "[[ 0.49362588  0.92844966  3.05981865  1.97714211 -1.30384048  2.39791576\n",
      "  -0.79772404 -0.86135677]\n",
      " [-3.56269116 -1.70427745  0.53336288 -0.50578054  0.76696499 -0.41702883\n",
      "  -0.79772404 -0.86135677]\n",
      " [ 0.49362588  0.92844966  1.88080596  1.97714211  0.76696499 -0.41702883\n",
      "   1.25356634 -0.86135677]\n",
      " [ 0.49362588  0.92844966 -0.98251057 -0.50578054  0.76696499 -0.41702883\n",
      "  -0.79772404  1.16095912]\n",
      " [-0.66532184 -0.78854628 -0.47721942 -0.50578054  0.76696499  2.39791576\n",
      "  -0.79772404 -0.86135677]]\n",
      "(54, 8)\n",
      "['PAIDOFF' 'PAIDOFF' 'PAIDOFF' 'PAIDOFF' 'PAIDOFF']\n",
      "(54,)\n"
     ]
    }
   ],
   "source": [
    "print (X_loan_test[0:5])\n",
    "print (X_loan_test.shape)\n",
    "\n",
    "print (y_loan_test[0:5])\n",
    "print (y_loan_test.shape)"
   ]
  },
  {
   "cell_type": "code",
   "execution_count": 45,
   "metadata": {},
   "outputs": [
    {
     "name": "stderr",
     "output_type": "stream",
     "text": [
      "C:\\Users\\DELL\\anaconda3\\lib\\site-packages\\sklearn\\metrics\\_classification.py:664: FutureWarning: jaccard_similarity_score has been deprecated and replaced with jaccard_score. It will be removed in version 0.23. This implementation has surprising behavior for binary and multiclass classification tasks.\n",
      "  FutureWarning)\n",
      "C:\\Users\\DELL\\anaconda3\\lib\\site-packages\\sklearn\\metrics\\_classification.py:664: FutureWarning: jaccard_similarity_score has been deprecated and replaced with jaccard_score. It will be removed in version 0.23. This implementation has surprising behavior for binary and multiclass classification tasks.\n",
      "  FutureWarning)\n",
      "C:\\Users\\DELL\\anaconda3\\lib\\site-packages\\sklearn\\metrics\\_classification.py:664: FutureWarning: jaccard_similarity_score has been deprecated and replaced with jaccard_score. It will be removed in version 0.23. This implementation has surprising behavior for binary and multiclass classification tasks.\n",
      "  FutureWarning)\n",
      "C:\\Users\\DELL\\anaconda3\\lib\\site-packages\\sklearn\\metrics\\_classification.py:664: FutureWarning: jaccard_similarity_score has been deprecated and replaced with jaccard_score. It will be removed in version 0.23. This implementation has surprising behavior for binary and multiclass classification tasks.\n",
      "  FutureWarning)\n"
     ]
    },
    {
     "data": {
      "text/plain": [
       "[0.72, 0.74, 0.74, 0.78]"
      ]
     },
     "execution_count": 45,
     "metadata": {},
     "output_type": "execute_result"
    }
   ],
   "source": [
    "# Jaccard\n",
    "from sklearn.metrics import jaccard_similarity_score\n",
    "\n",
    "# KNN\n",
    "knn_yhat = knn_model.predict(X_loan_test)\n",
    "jss1 = round(jaccard_similarity_score(y_loan_test, knn_yhat), 2)\n",
    "\n",
    "# Decision Tree\n",
    "dt_yhat = dt_model.predict(X_loan_test)\n",
    "jss2 = round(jaccard_similarity_score(y_loan_test, dt_yhat), 2)\n",
    "\n",
    "# Support Vector Machine\n",
    "svc_yhat = svc_model.predict(X_loan_test)\n",
    "jss3 = round(jaccard_similarity_score(y_loan_test, svc_yhat), 2)\n",
    "\n",
    "# Logistic Regression\n",
    "lr_yhat = lr_model.predict(X_loan_test)\n",
    "jss4 = round(jaccard_similarity_score(y_loan_test, lr_yhat), 2)\n",
    "\n",
    "jss_list = [jss1, jss2, jss3, jss4]\n",
    "jss_list"
   ]
  },
  {
   "cell_type": "code",
   "execution_count": 46,
   "metadata": {},
   "outputs": [
    {
     "data": {
      "text/plain": [
       "[0.71, 0.63, 0.63, 0.76]"
      ]
     },
     "execution_count": 46,
     "metadata": {},
     "output_type": "execute_result"
    }
   ],
   "source": [
    "# F1_score\n",
    "from sklearn.metrics import f1_score\n",
    "\n",
    "# KNN\n",
    "knn_yhat = knn_model.predict(X_loan_test)\n",
    "f1 = round(f1_score(y_loan_test, knn_yhat, average = 'weighted'), 2)\n",
    "\n",
    "# Decision Tree\n",
    "dt_yhat = dt_model.predict(X_loan_test)\n",
    "f2 = round(f1_score(y_loan_test, dt_yhat, average = 'weighted'), 2)\n",
    "\n",
    "# Support Vector Machine\n",
    "svc_yhat = svc_model.predict(X_loan_test)\n",
    "f3 = round(f1_score(y_loan_test, svc_yhat, average = 'weighted'), 2)\n",
    "\n",
    "# Logistic Regression\n",
    "lr_yhat = lr_model.predict(X_loan_test)\n",
    "f4 = round(f1_score(y_loan_test, lr_yhat, average = 'weighted'), 2)\n",
    "\n",
    "f1_list = [f1, f2, f3, f4]\n",
    "f1_list"
   ]
  },
  {
   "cell_type": "code",
   "execution_count": 47,
   "metadata": {},
   "outputs": [
    {
     "data": {
      "text/plain": [
       "['NA', 'NA', 'NA', 0.67]"
      ]
     },
     "execution_count": 47,
     "metadata": {},
     "output_type": "execute_result"
    }
   ],
   "source": [
    "# log loss\n",
    "from sklearn.metrics import log_loss\n",
    "\n",
    "# Logistic Regression\n",
    "lr_prob = lr_model.predict_proba(X_loan_test)\n",
    "ll_list = ['NA','NA','NA', round(log_loss(y_loan_test, lr_prob), 2)]\n",
    "ll_list"
   ]
  },
  {
   "cell_type": "code",
   "execution_count": 48,
   "metadata": {},
   "outputs": [],
   "source": [
    "columns = ['KNN', 'Decision Tree', 'SVM', 'Logistic Regression']\n",
    "index = ['Jaccard', 'F1-score', 'Logloss']"
   ]
  },
  {
   "cell_type": "code",
   "execution_count": 52,
   "metadata": {},
   "outputs": [],
   "source": [
    "accuracy_df = pd.DataFrame([jss_list, f1_list, ll_list], index = index, columns = columns)"
   ]
  },
  {
   "cell_type": "code",
   "execution_count": 55,
   "metadata": {},
   "outputs": [
    {
     "data": {
      "text/html": [
       "<div>\n",
       "<style scoped>\n",
       "    .dataframe tbody tr th:only-of-type {\n",
       "        vertical-align: middle;\n",
       "    }\n",
       "\n",
       "    .dataframe tbody tr th {\n",
       "        vertical-align: top;\n",
       "    }\n",
       "\n",
       "    .dataframe thead th {\n",
       "        text-align: right;\n",
       "    }\n",
       "</style>\n",
       "<table border=\"1\" class=\"dataframe\">\n",
       "  <thead>\n",
       "    <tr style=\"text-align: right;\">\n",
       "      <th>Algorithm</th>\n",
       "      <th>Jaccard</th>\n",
       "      <th>F1-score</th>\n",
       "      <th>Logloss</th>\n",
       "    </tr>\n",
       "  </thead>\n",
       "  <tbody>\n",
       "    <tr>\n",
       "      <th>KNN</th>\n",
       "      <td>0.72</td>\n",
       "      <td>0.71</td>\n",
       "      <td>NA</td>\n",
       "    </tr>\n",
       "    <tr>\n",
       "      <th>Decision Tree</th>\n",
       "      <td>0.74</td>\n",
       "      <td>0.63</td>\n",
       "      <td>NA</td>\n",
       "    </tr>\n",
       "    <tr>\n",
       "      <th>SVM</th>\n",
       "      <td>0.74</td>\n",
       "      <td>0.63</td>\n",
       "      <td>NA</td>\n",
       "    </tr>\n",
       "    <tr>\n",
       "      <th>Logistic Regression</th>\n",
       "      <td>0.78</td>\n",
       "      <td>0.76</td>\n",
       "      <td>0.67</td>\n",
       "    </tr>\n",
       "  </tbody>\n",
       "</table>\n",
       "</div>"
      ],
      "text/plain": [
       "Algorithm           Jaccard F1-score Logloss\n",
       "KNN                    0.72     0.71      NA\n",
       "Decision Tree          0.74     0.63      NA\n",
       "SVM                    0.74     0.63      NA\n",
       "Logistic Regression    0.78     0.76    0.67"
      ]
     },
     "execution_count": 55,
     "metadata": {},
     "output_type": "execute_result"
    }
   ],
   "source": [
    "accuracy_df1 = accuracy_df.transpose()\n",
    "accuracy_df1.columns.name = 'Algorithm'\n",
    "accuracy_df1"
   ]
  },
  {
   "cell_type": "markdown",
   "metadata": {},
   "source": [
    "# Report\n",
    "You should be able to report the accuracy of the built model using different evaluation metrics:"
   ]
  },
  {
   "cell_type": "markdown",
   "metadata": {},
   "source": [
    "| Algorithm          | Jaccard | F1-score | LogLoss |\n",
    "|--------------------|---------|----------|---------|\n",
    "| KNN                | ?       | ?        | NA      |\n",
    "| Decision Tree      | ?       | ?        | NA      |\n",
    "| SVM                | ?       | ?        | NA      |\n",
    "| LogisticRegression | ?       | ?        | ?       |"
   ]
  },
  {
   "cell_type": "markdown",
   "metadata": {
    "button": false,
    "new_sheet": false,
    "run_control": {
     "read_only": false
    }
   },
   "source": [
    "<h2>Want to learn more?</h2>\n",
    "\n",
    "IBM SPSS Modeler is a comprehensive analytics platform that has many machine learning algorithms. It has been designed to bring predictive intelligence to decisions made by individuals, by groups, by systems – by your enterprise as a whole. A free trial is available through this course, available here: <a href=\"http://cocl.us/ML0101EN-SPSSModeler\">SPSS Modeler</a>\n",
    "\n",
    "Also, you can use Watson Studio to run these notebooks faster with bigger datasets. Watson Studio is IBM's leading cloud solution for data scientists, built by data scientists. With Jupyter notebooks, RStudio, Apache Spark and popular libraries pre-packaged in the cloud, Watson Studio enables data scientists to collaborate on their projects without having to install anything. Join the fast-growing community of Watson Studio users today with a free account at <a href=\"https://cocl.us/ML0101EN_DSX\">Watson Studio</a>\n",
    "\n",
    "<h3>Thanks for completing this lesson!</h3>\n",
    "\n",
    "<h4>Author:  <a href=\"https://ca.linkedin.com/in/saeedaghabozorgi\">Saeed Aghabozorgi</a></h4>\n",
    "<p><a href=\"https://ca.linkedin.com/in/saeedaghabozorgi\">Saeed Aghabozorgi</a>, PhD is a Data Scientist in IBM with a track record of developing enterprise level applications that substantially increases clients’ ability to turn data into actionable knowledge. He is a researcher in data mining field and expert in developing advanced analytic methods like machine learning and statistical modelling on large datasets.</p>\n",
    "\n",
    "<hr>\n",
    "\n",
    "<p>Copyright &copy; 2018 <a href=\"https://cocl.us/DX0108EN_CC\">Cognitive Class</a>. This notebook and its source code are released under the terms of the <a href=\"https://bigdatauniversity.com/mit-license/\">MIT License</a>.</p>"
   ]
  }
 ],
 "metadata": {
  "kernelspec": {
   "display_name": "Python 3",
   "language": "python",
   "name": "python3"
  },
  "language_info": {
   "codemirror_mode": {
    "name": "ipython",
    "version": 3
   },
   "file_extension": ".py",
   "mimetype": "text/x-python",
   "name": "python",
   "nbconvert_exporter": "python",
   "pygments_lexer": "ipython3",
   "version": "3.7.6"
  }
 },
 "nbformat": 4,
 "nbformat_minor": 2
}
